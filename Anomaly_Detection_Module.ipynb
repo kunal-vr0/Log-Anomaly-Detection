{
  "nbformat": 4,
  "nbformat_minor": 0,
  "metadata": {
    "colab": {
      "provenance": [],
      "gpuType": "T4",
      "include_colab_link": true
    },
    "kernelspec": {
      "name": "python3",
      "display_name": "Python 3"
    },
    "language_info": {
      "name": "python"
    }
  },
  "cells": [
    {
      "cell_type": "markdown",
      "metadata": {
        "id": "view-in-github",
        "colab_type": "text"
      },
      "source": [
        "<a href=\"https://colab.research.google.com/github/kunal-vr0/Log-Anomaly-Detection/blob/main/Anomaly_Detection_Module.ipynb\" target=\"_parent\"><img src=\"https://colab.research.google.com/assets/colab-badge.svg\" alt=\"Open In Colab\"/></a>"
      ]
    },
    {
      "cell_type": "code",
      "source": [
        "train_file_path = '/content/drive/MyDrive/LLM_cx/Anomaly-Transformer/dataset/BGL/BGL_test.txt'\n",
        "data_size = 500_000 # Traning dataset size\n",
        "test_file_path = '/content/drive/MyDrive/LLM_cx/Anomaly-Transformer/dataset/BGL_/validation.txt'\n",
        "test_file_label_path = '/content/drive/MyDrive/LLM_cx/Anomaly-Transformer/dataset/BGL_/validation_label.csv'\n",
        "save_path = '/content/drive/MyDrive/LLM_cx/Anomaly-Transformer/dataset/My_BGL'"
      ],
      "metadata": {
        "id": "rITrffRp1i3Q"
      },
      "execution_count": null,
      "outputs": []
    },
    {
      "cell_type": "code",
      "source": [
        "from google.colab import drive\n",
        "drive.mount('/content/drive')"
      ],
      "metadata": {
        "colab": {
          "base_uri": "https://localhost:8080/"
        },
        "id": "_oU9nRkJUuiS",
        "outputId": "2e376ea1-98d0-49e0-cdaa-b8ca0c7d72f2"
      },
      "execution_count": null,
      "outputs": [
        {
          "output_type": "stream",
          "name": "stdout",
          "text": [
            "Mounted at /content/drive\n"
          ]
        }
      ]
    },
    {
      "cell_type": "code",
      "source": [
        "_label = []\n",
        "with open('/content/drive/MyDrive/LLM_cx/Anomaly-Transformer/dataset/BGL/BGL.log') as logs:\n",
        "  for i, log in enumerate(logs):\n",
        "    if log[0] == '-':\n",
        "      _label.append(0)\n",
        "    else:\n",
        "      _label.append(1)\n",
        "    if i == data_size:\n",
        "      break\n",
        "\n",
        "import csv\n",
        "with open(save_path+'/train_label.csv', 'w',newline='') as file:\n",
        "  writer = csv.writer(file)\n",
        "  for label in _label:\n",
        "    writer.writerow([label])"
      ],
      "metadata": {
        "id": "RgN-7rcJywQd"
      },
      "execution_count": null,
      "outputs": []
    },
    {
      "cell_type": "code",
      "source": [
        "sum(_label)"
      ],
      "metadata": {
        "colab": {
          "base_uri": "https://localhost:8080/"
        },
        "id": "u1okH_RE0Dgh",
        "outputId": "986042a6-9982-435a-d007-78f63e12893e"
      },
      "execution_count": null,
      "outputs": [
        {
          "output_type": "execute_result",
          "data": {
            "text/plain": [
              "206848"
            ]
          },
          "metadata": {},
          "execution_count": 12
        }
      ]
    },
    {
      "cell_type": "markdown",
      "source": [
        "#Data Preprocessor"
      ],
      "metadata": {
        "id": "LgARowru1e-M"
      }
    },
    {
      "cell_type": "code",
      "source": [
        "import re\n",
        "def Cleaner(text):\n",
        "  pattern = [r'\\d{4}-\\d{2}-\\d{2}-\\d{2}\\.\\d{2}\\.\\d{2}\\.\\d{6}', r'\\d{10}', r'\\d{4}.\\d{2}.\\d{2}']\n",
        "  pattern = '|'.join(pattern)\n",
        "  text = re.sub(pattern, '', text).split()\n",
        "  return ' '.join(text)"
      ],
      "metadata": {
        "id": "iGAW_IXa1eOX"
      },
      "execution_count": null,
      "outputs": []
    },
    {
      "cell_type": "code",
      "source": [
        "sentence = \"1123637103 2005.08.09 R34-M1-N6-C:J03-U01 2005-08-09-18.25.03.244588 R34-M1-N6-C:J03-U01 RAS KERNEL INFO CE sym 34, at 0x041cc780, mask 0x80\"\n",
        "Cleaner(sentence)"
      ],
      "metadata": {
        "colab": {
          "base_uri": "https://localhost:8080/",
          "height": 1000
        },
        "id": "NUOW_geR5xim",
        "outputId": "f4490c1f-1a79-4631-a230-5d5aca5df627"
      },
      "execution_count": null,
      "outputs": [
        {
          "output_type": "execute_result",
          "data": {
            "text/plain": [
              "'R34-M1-N6-C:J03-U01 R34-M1-N6-C:J03-U01 RAS KERNEL INFO CE sym 34, at 0x041cc780, mask 0x80'"
            ],
            "application/vnd.google.colaboratory.intrinsic+json": {
              "type": "string"
            }
          },
          "metadata": {},
          "execution_count": 32
        }
      ]
    },
    {
      "cell_type": "code",
      "source": [
        "import re\n",
        "def Tokenizer(text):\n",
        "  pattern = [r'\\d{4}-\\d{2}-\\d{2}-\\d{2}\\.\\d{2}\\.\\d{2}\\.\\d{6}', r'\\d{10}', r'\\d{4}.\\d{2}.\\d{2}', r':']\n",
        "  pattern = '|'.join(pattern)\n",
        "  text = re.sub(pattern, ' ', text)\n",
        "  return text.split()"
      ],
      "metadata": {
        "id": "nRMa1gBI4KfL"
      },
      "execution_count": null,
      "outputs": []
    },
    {
      "cell_type": "code",
      "source": [
        "sentence = \"1123637103 2005.08.09 R34-M1-N6-C:J03-U01 2005-08-09-18.25.03.244588 R34-M1-N6-C:J03-U01 RAS KERNEL INFO CE sym 34, at 0x041cc780, mask 0x80\"\n",
        "Tokenizer(sentence)"
      ],
      "metadata": {
        "colab": {
          "base_uri": "https://localhost:8080/"
        },
        "id": "SjIZiyBR4ejf",
        "outputId": "eb6f81ce-4eaf-4321-a5a6-e1b1ed03060c"
      },
      "execution_count": null,
      "outputs": [
        {
          "output_type": "execute_result",
          "data": {
            "text/plain": [
              "['R34-M1-N6-C',\n",
              " 'J03-U01',\n",
              " 'R34-M1-N6-C',\n",
              " 'J03-U01',\n",
              " 'RAS',\n",
              " 'KERNEL',\n",
              " 'INFO',\n",
              " 'CE',\n",
              " 'sym',\n",
              " '34,',\n",
              " 'at',\n",
              " '0x041cc780,',\n",
              " 'mask',\n",
              " '0x80']"
            ]
          },
          "metadata": {},
          "execution_count": 34
        }
      ]
    },
    {
      "cell_type": "markdown",
      "source": [
        "#Saving Processed Data"
      ],
      "metadata": {
        "id": "-Xty3hAP54q0"
      }
    },
    {
      "cell_type": "code",
      "source": [
        "def load_data(path):\n",
        "  logs = []\n",
        "  with open(path, opt='clean') as logs:\n",
        "    log_list = []\n",
        "    if opt == 'clean':\n",
        "      for log in logs:\n",
        "        log_list.append(log)\n",
        "    elif opt == 'raw':\n",
        "      for log in logs:\n",
        "        log_list.append(Cleaner(log))\n",
        "  return log"
      ],
      "metadata": {
        "id": "XPsdF-AlDxmA"
      },
      "execution_count": null,
      "outputs": []
    },
    {
      "cell_type": "code",
      "source": [
        "log_list_train = []\n",
        "with open(train_file_path) as logs:\n",
        "  for i, log in enumerate(logs):\n",
        "    log = Cleaner(log)\n",
        "    log_list_train.append(log)\n",
        "    if i == data_size:\n",
        "      break\n",
        "with open(save_path+'/train.txt', 'w', encoding='utf-8') as file:\n",
        "  for log in log_list_train:\n",
        "    file.write(log+'\\n')\n"
      ],
      "metadata": {
        "id": "Lo8OJoq94k3-"
      },
      "execution_count": null,
      "outputs": []
    },
    {
      "cell_type": "code",
      "source": [
        "log_list_test = []\n",
        "with open(test_file_path) as logs:\n",
        "  for i, log in enumerate(logs):\n",
        "    log = Cleaner(log)\n",
        "    log_list_test.append(log)\n",
        "\n",
        "with open(save_path+'/test.txt', 'w', encoding='utf-8') as file:\n",
        "  for log in log_list_test:\n",
        "    file.write(log+'\\n')"
      ],
      "metadata": {
        "id": "I1Zzt0BU7w63"
      },
      "execution_count": null,
      "outputs": []
    },
    {
      "cell_type": "markdown",
      "source": [
        "#Traning Word2Vec"
      ],
      "metadata": {
        "id": "nWdr74wo8K_1"
      }
    },
    {
      "cell_type": "code",
      "source": [
        "!pip install -q gensim\n",
        "from gensim.models import Word2Vec"
      ],
      "metadata": {
        "id": "bN4BYpAv8XNv"
      },
      "execution_count": null,
      "outputs": []
    },
    {
      "cell_type": "markdown",
      "source": [
        "Create Corpus"
      ],
      "metadata": {
        "id": "g9fbcM7F8lVZ"
      }
    },
    {
      "cell_type": "code",
      "source": [
        "corpus = []\n",
        "for log in log_list_train:\n",
        "  corpus.append(Tokenizer(log))\n",
        "len(corpus)"
      ],
      "metadata": {
        "colab": {
          "base_uri": "https://localhost:8080/"
        },
        "id": "COdbsKQd8Sj6",
        "outputId": "7db6d96e-b5d1-4003-9fb9-acc17773755c"
      },
      "execution_count": null,
      "outputs": [
        {
          "output_type": "execute_result",
          "data": {
            "text/plain": [
              "500001"
            ]
          },
          "metadata": {},
          "execution_count": 9
        }
      ]
    },
    {
      "cell_type": "code",
      "source": [
        "vector_size = 50\n",
        "encoder_wv = Word2Vec(corpus, min_count=10, vector_size = vector_size)\n",
        "encoder_wv.wv.key_to_index"
      ],
      "metadata": {
        "id": "iOfoR56j9JdH"
      },
      "execution_count": null,
      "outputs": []
    },
    {
      "cell_type": "code",
      "source": [
        "encoder_wv.save(save_path+'/word2vec.model')"
      ],
      "metadata": {
        "id": "nGc_rYxh-Geo"
      },
      "execution_count": null,
      "outputs": []
    },
    {
      "cell_type": "code",
      "source": [],
      "metadata": {
        "id": "fJ332mY2e9Zi"
      },
      "execution_count": null,
      "outputs": []
    },
    {
      "cell_type": "markdown",
      "source": [
        "#Creating Word2Vec Encoder"
      ],
      "metadata": {
        "id": "_GeVcGSl_TzN"
      }
    },
    {
      "cell_type": "markdown",
      "source": [
        "Writing this with the assumption in mind that i am going to use already processed data, if we have to use raw data it won't work. Will write different function for that"
      ],
      "metadata": {
        "id": "Hoiqh1e0_i7T"
      }
    },
    {
      "cell_type": "code",
      "source": [],
      "metadata": {
        "id": "xm3khM_g_Vwk"
      },
      "execution_count": null,
      "outputs": []
    },
    {
      "cell_type": "code",
      "source": [
        "from gensim.models import Word2Vec\n",
        "import numpy as np\n",
        "encoder_path = save_path+'/word2vec.model'\n",
        "encoder = Word2Vec.load(encoder_path)\n",
        "# text is a list of tokens ie. tokenized logs\n",
        "def Encoder_wv(text, encoder, out_dim):\n",
        "  word_encd = []\n",
        "  for word in Tokenizer(text):\n",
        "    try:\n",
        "      x = encoder.wv.get_vector(word)\n",
        "    except KeyError:\n",
        "      x = np.zeros((out_dim,))\n",
        "    word_encd.append(x)\n",
        "  x = np.array(word_encd)\n",
        "  x = x.mean(axis=0)\n",
        "  return x"
      ],
      "metadata": {
        "id": "NYe-GQ8V_Rdv"
      },
      "execution_count": null,
      "outputs": []
    },
    {
      "cell_type": "code",
      "source": [
        "test = 'R53-M1-NB-C:J13-U01 R53-M1-NB-C:J13-U01 RAS KERNEL INFO 1 ddr errors(s) detected and corrected on rank 0, symbol 25, bit 5'\n",
        "Encoder_wv(test, encoder, vector_size)"
      ],
      "metadata": {
        "colab": {
          "base_uri": "https://localhost:8080/"
        },
        "id": "zhgbXVwGe_OF",
        "outputId": "114f0280-3415-4e18-b850-131c60beabcb"
      },
      "execution_count": null,
      "outputs": [
        {
          "output_type": "execute_result",
          "data": {
            "text/plain": [
              "array([-0.2182231 ,  0.6998633 ,  0.00782834, -1.310223  , -0.25956696,\n",
              "       -0.62656164,  0.3832275 ,  0.01527553,  3.2608845 ,  0.8691459 ,\n",
              "       -0.31265977,  2.055429  , -1.0796697 ,  0.6922232 , -2.1101928 ,\n",
              "        0.29701012,  1.7858416 , -0.29627404, -1.306777  ,  0.55728924,\n",
              "        0.05145664,  0.94345695, -0.3733741 , -2.7868617 ,  2.6080575 ,\n",
              "       -2.9535592 , -1.3626403 ,  0.54713273, -1.9287565 ,  2.3886502 ,\n",
              "       -1.1286439 , -1.0503771 ,  1.6921005 ,  0.96658623, -0.5869502 ,\n",
              "        1.9268944 ,  0.8321146 ,  2.055301  ,  1.1270434 , -1.893717  ,\n",
              "       -0.24331959, -0.9105654 ,  2.3617747 , -2.334908  , -1.2731454 ,\n",
              "       -2.0654576 ,  0.53145754,  0.661648  ,  0.6731999 , -0.75321186],\n",
              "      dtype=float32)"
            ]
          },
          "metadata": {},
          "execution_count": 13
        }
      ]
    },
    {
      "cell_type": "markdown",
      "source": [
        "#Saving embedded log dataset"
      ],
      "metadata": {
        "id": "Q9BrsPkhBUKD"
      }
    },
    {
      "cell_type": "code",
      "source": [
        "import csv\n",
        "from tqdm import tqdm\n",
        "with open(save_path+'/train_w2v_50.csv', 'w', newline='') as file:  #change file name\n",
        "  writer = csv.writer(file)\n",
        "  for log in tqdm(log_list_train):\n",
        "    writer.writerow(Encoder_wv(log, encoder, vector_size))"
      ],
      "metadata": {
        "colab": {
          "base_uri": "https://localhost:8080/"
        },
        "id": "jGje0hpIBR7S",
        "outputId": "74a85eb7-321e-4dd2-a599-1953ff839c09"
      },
      "execution_count": null,
      "outputs": [
        {
          "output_type": "stream",
          "name": "stderr",
          "text": [
            "100%|██████████| 500001/500001 [00:57<00:00, 8759.70it/s] \n"
          ]
        }
      ]
    },
    {
      "cell_type": "code",
      "source": [
        "import csv\n",
        "from tqdm import tqdm\n",
        "with open(save_path+'/test_w2v_50.csv', 'w', newline='') as file:  #change file name\n",
        "  writer = csv.writer(file)\n",
        "  for log in tqdm(log_list_test):\n",
        "    writer.writerow(Encoder_wv(log, encoder, vector_size))"
      ],
      "metadata": {
        "colab": {
          "base_uri": "https://localhost:8080/"
        },
        "id": "Giuh0MtvDkM_",
        "outputId": "054fa913-1577-4e2e-d8e1-e844d373ac0e"
      },
      "execution_count": null,
      "outputs": [
        {
          "output_type": "stream",
          "name": "stderr",
          "text": [
            "100%|██████████| 20000/20000 [00:02<00:00, 8875.24it/s]\n"
          ]
        }
      ]
    },
    {
      "cell_type": "markdown",
      "source": [
        "#Creating Sentence-Transformer Encoder"
      ],
      "metadata": {
        "id": "blHq2lv1Glum"
      }
    },
    {
      "cell_type": "code",
      "source": [
        "!pip install -q sentence-transformers\n",
        "from sentence_transformers import SentenceTransformer"
      ],
      "metadata": {
        "id": "rO_cAXZsE4t8"
      },
      "execution_count": null,
      "outputs": []
    },
    {
      "cell_type": "code",
      "source": [
        "encoder_tf = SentenceTransformer('all-MiniLM-L6-v2')\n",
        "x = 'x may be any sentence'\n",
        "encoder_tf.encode(x)"
      ],
      "metadata": {
        "id": "d-OMCruJHdgZ"
      },
      "execution_count": null,
      "outputs": []
    },
    {
      "cell_type": "code",
      "source": [
        "import torch.nn as nn\n",
        "import torch\n",
        "\n",
        "device = torch.device('cuda' if torch.cuda.is_available() else 'cpu')\n",
        "\n",
        "class Encoder_tf(nn.Module):\n",
        "  def __init__(self, encoder_tf, out_dim):\n",
        "    super(Encoder_tf, self).__init__()\n",
        "    self.encoder_tf = encoder_tf\n",
        "    self.linear = nn.Linear(384, out_dim)\n",
        "\n",
        "  def forward(self, x):\n",
        "    x = self.encoder_tf.encode(x)\n",
        "    x = torch.from_numpy(x).to(device)\n",
        "    x = self.linear(x)\n",
        "    return x"
      ],
      "metadata": {
        "id": "7G15qd2aJULj"
      },
      "execution_count": null,
      "outputs": []
    },
    {
      "cell_type": "markdown",
      "source": [
        "#Saving embedded log dataset"
      ],
      "metadata": {
        "id": "SLlWOeOAN2yf"
      }
    },
    {
      "cell_type": "code",
      "source": [
        "out_dim = 50\n",
        "Encoder_tf = Encoder_tf(encoder_tf, out_dim)\n",
        "Encoder_tf.to(device)\n",
        "\"Model Created\""
      ],
      "metadata": {
        "colab": {
          "base_uri": "https://localhost:8080/",
          "height": 35
        },
        "id": "iMs3FDnoLQOJ",
        "outputId": "09c21159-537a-4171-c5ae-d47ad12e4a77"
      },
      "execution_count": null,
      "outputs": [
        {
          "output_type": "execute_result",
          "data": {
            "text/plain": [
              "'Model Created'"
            ],
            "application/vnd.google.colaboratory.intrinsic+json": {
              "type": "string"
            }
          },
          "metadata": {},
          "execution_count": 11
        }
      ]
    },
    {
      "cell_type": "code",
      "source": [
        "from tqdm import tqdm\n",
        "import csv\n",
        "batch_size = 512\n",
        "log_encds_train = []\n",
        "batch = []\n",
        "with open(save_path+'/train.txt', encoding='utf-8') as logs:\n",
        "  for i, log in tqdm(enumerate(logs)):\n",
        "    batch.append(str(log.strip()))\n",
        "    if len(batch) == batch_size or i == 0:\n",
        "      batch_encds = Encoder_tf(batch)\n",
        "      log_encds_train.extend(batch_encds.cpu().detach().numpy())\n",
        "      batch = []\n",
        "if len(batch) > 0:\n",
        "  batch_encds = Encoder_tf(batch)\n",
        "  log_encds_train.extend(batch_encds.cpu().detach().numpy())\n",
        "\n",
        "print('Encodings created!!')\n",
        "\n",
        "with open(save_path+'/train_tf_50.csv', 'w', newline='') as file:  #change file name\n",
        "  writer = csv.writer(file)\n",
        "  for encd in tqdm(log_encds_train):\n",
        "    writer.writerow(encd)\n",
        "\n",
        "print('Encodings saved!!')\n",
        "\n"
      ],
      "metadata": {
        "colab": {
          "base_uri": "https://localhost:8080/"
        },
        "id": "Vkg-9OAKOqgh",
        "outputId": "b507ab10-3e92-40df-c510-1a9c5575922a"
      },
      "execution_count": null,
      "outputs": [
        {
          "output_type": "stream",
          "name": "stderr",
          "text": [
            "500001it [05:37, 1480.55it/s]\n"
          ]
        },
        {
          "output_type": "stream",
          "name": "stdout",
          "text": [
            "Encodings created!!\n"
          ]
        },
        {
          "output_type": "stream",
          "name": "stderr",
          "text": [
            "100%|██████████| 500001/500001 [00:24<00:00, 20758.97it/s]"
          ]
        },
        {
          "output_type": "stream",
          "name": "stdout",
          "text": [
            "Encodings saved!!\n"
          ]
        },
        {
          "output_type": "stream",
          "name": "stderr",
          "text": [
            "\n"
          ]
        }
      ]
    },
    {
      "cell_type": "code",
      "source": [
        "from tqdm import tqdm\n",
        "import csv\n",
        "batch_size = 512\n",
        "log_encds_test = []\n",
        "batch = []\n",
        "with open(save_path+'/test.txt', encoding='utf-8') as logs:\n",
        "  for i, log in tqdm(enumerate(logs)):\n",
        "    batch.append(str(log.strip()))\n",
        "    if len(batch) == batch_size or i == 0:\n",
        "      batch_encds = Encoder_tf(batch)\n",
        "      log_encds_test.extend(batch_encds.cpu().detach().numpy())\n",
        "      batch = []\n",
        "if len(batch) > 0:\n",
        "  batch_encds = Encoder_tf(batch)\n",
        "  log_encds_test.extend(batch_encds.cpu().detach().numpy())\n",
        "\n",
        "print('Encodings created!!')\n",
        "\n",
        "with open(save_path+'/test_tf_50.csv', 'w', newline='') as file:  #change file name\n",
        "  writer = csv.writer(file)\n",
        "  for encd in tqdm(log_encds_test):\n",
        "    writer.writerow(encd)\n",
        "\n",
        "print('Encodings saved!!')\n"
      ],
      "metadata": {
        "id": "TdWEX87eU2Zi",
        "colab": {
          "base_uri": "https://localhost:8080/"
        },
        "outputId": "5d089e17-9a9f-4054-89a1-7d9add21f55d"
      },
      "execution_count": null,
      "outputs": [
        {
          "output_type": "stream",
          "name": "stderr",
          "text": [
            "20000it [00:16, 1190.71it/s]\n"
          ]
        },
        {
          "output_type": "stream",
          "name": "stdout",
          "text": [
            "Encodings created!!\n"
          ]
        },
        {
          "output_type": "stream",
          "name": "stderr",
          "text": [
            "100%|██████████| 20000/20000 [00:00<00:00, 23496.25it/s]"
          ]
        },
        {
          "output_type": "stream",
          "name": "stdout",
          "text": [
            "Encodings saved!!\n"
          ]
        },
        {
          "output_type": "stream",
          "name": "stderr",
          "text": [
            "\n"
          ]
        }
      ]
    },
    {
      "cell_type": "markdown",
      "source": [
        "Using 50 as out dim for first set of encodings. will need to save encoding for out dim of 100 later."
      ],
      "metadata": {
        "id": "7m26yWmFYf2b"
      }
    },
    {
      "cell_type": "markdown",
      "source": [
        "#BPE Tokenizer"
      ],
      "metadata": {
        "id": "7A9roCNKrn_w"
      }
    },
    {
      "cell_type": "code",
      "source": [
        "!pip install -q tokenizers"
      ],
      "metadata": {
        "id": "28XPRe8Vrrug"
      },
      "execution_count": null,
      "outputs": []
    },
    {
      "cell_type": "code",
      "source": [
        "log_list = []\n",
        "with open(save_path+'/train.txt') as logs:\n",
        "  for log in logs:\n",
        "    log_list.append(str(log))"
      ],
      "metadata": {
        "id": "V59fX7ELtXS1"
      },
      "execution_count": null,
      "outputs": []
    },
    {
      "cell_type": "code",
      "source": [
        "from tokenizers import Tokenizer, models, trainers\n",
        "tokenizer_bpe = Tokenizer(models.BPE())\n",
        "trainer = trainers.BpeTrainer(vocab_size=1000, special_tokens=['<s>', '<pad>', '</s>', '<unk>'])\n",
        "tokenizer_bpe.train_from_iterator(log_list, trainer)"
      ],
      "metadata": {
        "id": "Bf1ZVtG5sh05"
      },
      "execution_count": null,
      "outputs": []
    },
    {
      "cell_type": "code",
      "source": [
        "tokenizer_bpe.save(save_path+'/BPE_tokenizer.json')"
      ],
      "metadata": {
        "id": "_5lQSqSEudBt"
      },
      "execution_count": null,
      "outputs": []
    },
    {
      "cell_type": "code",
      "source": [
        "text = \"1123637084 2005.08.09 R21-M1-NF-C:J11-U11 2005-08-09-18.24.44.452974 R21-M1-NF-C:J11-U11 RAS KERNEL INFO CE sym 9, at 0x18b2c360, mask 0x80\"\n",
        "tokenizer_bpe.encode(Cleaner(text)).tokens"
      ],
      "metadata": {
        "colab": {
          "base_uri": "https://localhost:8080/"
        },
        "id": "LXzwpOkFtx9l",
        "outputId": "866020a9-4e76-427a-cde6-9af45f632400"
      },
      "execution_count": null,
      "outputs": [
        {
          "output_type": "execute_result",
          "data": {
            "text/plain": [
              "['R2',\n",
              " '1-M1-N',\n",
              " 'F',\n",
              " '-C:J11',\n",
              " '-U11 R2',\n",
              " '1-M1-N',\n",
              " 'F',\n",
              " '-C:J11',\n",
              " '-U11 RAS KERNEL INFO CE sym ',\n",
              " '9',\n",
              " ', at 0x',\n",
              " '18',\n",
              " 'b',\n",
              " '2',\n",
              " 'c',\n",
              " '3',\n",
              " '6',\n",
              " '0, mask 0x',\n",
              " '80']"
            ]
          },
          "metadata": {},
          "execution_count": 39
        }
      ]
    },
    {
      "cell_type": "markdown",
      "source": [
        "Unable to load saved BPE tokenizer"
      ],
      "metadata": {
        "id": "gBCIOvUPzT3P"
      }
    },
    {
      "cell_type": "markdown",
      "source": [
        "#Traning W2V with BPE"
      ],
      "metadata": {
        "id": "bZxX7hlsDX5v"
      }
    },
    {
      "cell_type": "code",
      "source": [
        "!pip install -q gensim\n",
        "from gensim.models import Word2Vec"
      ],
      "metadata": {
        "id": "zz-r8I2JDaom"
      },
      "execution_count": null,
      "outputs": []
    },
    {
      "cell_type": "markdown",
      "source": [
        "create corpus"
      ],
      "metadata": {
        "id": "FzKTZIbdDfiB"
      }
    },
    {
      "cell_type": "code",
      "source": [
        "corpus = []\n",
        "log_list_train = []\n",
        "with open(save_path+'/train.txt') as logs:\n",
        "  for log in logs:\n",
        "    log_list_train.append(log)\n",
        "    corpus.append(tokenizer_bpe.encode(log).tokens)\n",
        "len(corpus)"
      ],
      "metadata": {
        "id": "Bpi3FdRLDorO",
        "colab": {
          "base_uri": "https://localhost:8080/"
        },
        "outputId": "900945c7-9483-47a5-f268-de4afd092558"
      },
      "execution_count": null,
      "outputs": [
        {
          "output_type": "execute_result",
          "data": {
            "text/plain": [
              "500001"
            ]
          },
          "metadata": {},
          "execution_count": 51
        }
      ]
    },
    {
      "cell_type": "code",
      "source": [
        "vector_size = 50\n",
        "encoder_bpe = Word2Vec(corpus, min_count=10, vector_size = vector_size)\n",
        "encoder_bpe.wv.key_to_index"
      ],
      "metadata": {
        "id": "O3iLecwFDhr-",
        "colab": {
          "base_uri": "https://localhost:8080/"
        },
        "outputId": "3bb514b3-bc8a-4a6d-a1a5-5e837c5e8430"
      },
      "execution_count": null,
      "outputs": [
        {
          "output_type": "execute_result",
          "data": {
            "text/plain": [
              "{'3': 0,\n",
              " '4': 1,\n",
              " '1': 2,\n",
              " '2': 3,\n",
              " '7': 4,\n",
              " '6': 5,\n",
              " '5': 6,\n",
              " ' ': 7,\n",
              " '0': 8,\n",
              " '9': 9,\n",
              " 'e': 10,\n",
              " '8': 11,\n",
              " 'C': 12,\n",
              " 'A': 13,\n",
              " 'a': 14,\n",
              " 'E': 15,\n",
              " 'd': 16,\n",
              " 'NULL NULL RAS MMCS ERROR idoproxydb hit ASSERT condition: ASSERT expression=0 Source file=idotransportmgr.cpp Source line=1043 Function=int IdoTransportMgr::SendPacket(IdoUdpMgr*, BglCtlPavTrace*)\\n': 17,\n",
              " 'c': 18,\n",
              " 'B': 19,\n",
              " '.': 20,\n",
              " '\\n': 21,\n",
              " '/': 22,\n",
              " 'p': 23,\n",
              " '_': 24,\n",
              " '-U11 RAS KERNEL INFO ': 25,\n",
              " 'D': 26,\n",
              " 'F': 27,\n",
              " ':': 28,\n",
              " 'T': 29,\n",
              " '-U01 RAS KERNEL INFO ': 30,\n",
              " 'R6': 31,\n",
              " 'f': 32,\n",
              " '00': 33,\n",
              " 'e ': 34,\n",
              " '5-M0-N': 35,\n",
              " 'c\\n': 36,\n",
              " 's': 37,\n",
              " 't': 38,\n",
              " 'o': 39,\n",
              " '1-M1-N': 40,\n",
              " '10': 41,\n",
              " '4-M1-N': 42,\n",
              " 'w': 43,\n",
              " 'b': 44,\n",
              " '-C:J02': 45,\n",
              " '5-M1-N': 46,\n",
              " '1-M0-N': 47,\n",
              " 'u': 48,\n",
              " 'm': 49,\n",
              " '-C:J07': 50,\n",
              " '3-M1-N': 51,\n",
              " 'er': 52,\n",
              " '-C:J06': 53,\n",
              " 'R0': 54,\n",
              " ', at 0x0': 55,\n",
              " '2-M1-N': 56,\n",
              " 'L': 57,\n",
              " '-C:J09': 58,\n",
              " '3-M0-N': 59,\n",
              " '-C:J08': 60,\n",
              " '-C:J15': 61,\n",
              " '0-M0-N': 62,\n",
              " 'R': 63,\n",
              " 'l': 64,\n",
              " '-C:J17': 65,\n",
              " 'R2': 66,\n",
              " 'R1': 67,\n",
              " '-C:J10': 68,\n",
              " '0-M1-N': 69,\n",
              " '-C:J16': 70,\n",
              " '-C:J04': 71,\n",
              " ', at 0x1': 72,\n",
              " '6-M1-N': 73,\n",
              " '64': 74,\n",
              " '7-M0-N': 75,\n",
              " '-C:J12': 76,\n",
              " '-C:J13': 77,\n",
              " 're': 78,\n",
              " 'R3': 79,\n",
              " 'C-I:J18-U11 R': 80,\n",
              " '8-I:J18-U01 R': 81,\n",
              " '0-I:J18-U11 R': 82,\n",
              " '8-I:J18-U11 R': 83,\n",
              " '0-I:J18-U01 R': 84,\n",
              " 'C-I:J18-U01 R': 85,\n",
              " '2-M0-N': 86,\n",
              " '. ': 87,\n",
              " '6-M0-N': 88,\n",
              " 'r': 89,\n",
              " '7-M1-N': 90,\n",
              " '4-M0-N': 91,\n",
              " 'i': 92,\n",
              " 'M': 93,\n",
              " '-C:J11': 94,\n",
              " '-U11 R': 95,\n",
              " '4-I:J18-U01 R': 96,\n",
              " '4-I:J18-U11 R': 97,\n",
              " '-U11 RAS KERNEL INFO CE sym ': 98,\n",
              " '-C:J03': 99,\n",
              " '-': 100,\n",
              " 'n': 101,\n",
              " '-U11 R6': 102,\n",
              " '-C:J14': 103,\n",
              " '-C:J05': 104,\n",
              " ' R': 105,\n",
              " 'R67-M1-N': 106,\n",
              " 'in': 107,\n",
              " ': ': 108,\n",
              " 'R5': 109,\n",
              " 'R66-M1-N': 110,\n",
              " 'R67-M0-N': 111,\n",
              " '=': 112,\n",
              " '-U01 R6': 113,\n",
              " '-U01 RAS KERNEL INFO CE sym ': 114,\n",
              " 'R66-M0-N': 115,\n",
              " 'R4': 116,\n",
              " 'R7': 117,\n",
              " 'RNMNTF R': 118,\n",
              " 'AS KERNEL FATAL Lustre mount FAILED : bglio': 119,\n",
              " '-U01 R': 120,\n",
              " 't ': 121,\n",
              " '04': 122,\n",
              " ' : point /p/gb1\\n': 123,\n",
              " '24': 124,\n",
              " '-M0-N': 125,\n",
              " ') failed: No such file or directory\\n': 126,\n",
              " '-M1-N': 127,\n",
              " ' 2': 128,\n",
              " 'un': 129,\n",
              " ' 0': 130,\n",
              " 'h': 131,\n",
              " 'PI': 132,\n",
              " ' floating point alignment exceptions\\n': 133,\n",
              " 'lo': 134,\n",
              " 'k': 135,\n",
              " 'V': 136,\n",
              " '.0': 137,\n",
              " ' in': 138,\n",
              " 'AS APP FATAL ciod: Error loading /home/': 139,\n",
              " 'J': 140,\n",
              " 'not ': 141,\n",
              " ', ': 142,\n",
              " '07': 143,\n",
              " 'no': 144,\n",
              " '1 ': 145,\n",
              " '68': 146,\n",
              " '-U11 RAS KERNEL INFO iar 001065': 147,\n",
              " '-U01 RAS KERNEL INFO iar 001065': 148,\n",
              " '/_': 149,\n",
              " ' s': 150,\n",
              " 'pt': 151,\n",
              " ', bit ': 152,\n",
              " '.1': 153,\n",
              " 'R02-M0-N4-C:J04-U11 R02-M0-N4-C:J04-U11 RAS KERNEL INFO data cache search parity error detected. attempting to correct\\n': 154,\n",
              " 'ar': 155,\n",
              " 'PSEV R': 156,\n",
              " ': Link has been severed\\n': 157,\n",
              " 'G': 158,\n",
              " 'AS APP FATAL ciod: Error loading ': 159,\n",
              " 'ted\\n': 160,\n",
              " ' dear 0244c1': 161,\n",
              " '28': 162,\n",
              " 'ch': 163,\n",
              " 'X': 164,\n",
              " ' ch': 165,\n",
              " 'P': 166,\n",
              " '(': 167,\n",
              " 'th': 168,\n",
              " '18': 169,\n",
              " '-U01 R66-M1-N': 170,\n",
              " '.rts: invalid or missing program image, No such file or directory\\n': 171,\n",
              " ' ddr error(s) detected and corrected\\n': 172,\n",
              " 'ce': 173,\n",
              " 'of': 174,\n",
              " 'I': 175,\n",
              " '/ddcMD': 176,\n",
              " 'ss': 177,\n",
              " 'IS ': 178,\n",
              " 'ing ': 179,\n",
              " '-U01 RAS KERNEL INFO CE sym 2': 180,\n",
              " 'PGOOD ': 181,\n",
              " 'ra': 182,\n",
              " 'ad': 183,\n",
              " '-U01 R67-M1-N': 184,\n",
              " '-U01 R0': 185,\n",
              " '-U11 R67-M0-N': 186,\n",
              " '-U01 R67-M0-N': 187,\n",
              " '-U11 R67-M1-N': 188,\n",
              " 'pro': 189,\n",
              " '-U11 R66-M1-N': 190,\n",
              " '13': 191,\n",
              " 'en': 192,\n",
              " 'ip': 193,\n",
              " ')': 194,\n",
              " '-U11 R66-M0-N': 195,\n",
              " 'ne': 196,\n",
              " '-U11 RAS KERNEL INFO iar 00106228': 197,\n",
              " '-U01 R66-M0-N': 198,\n",
              " '-U01 RAS KERNEL INFO iar 00106228': 199,\n",
              " 'iar 00106210 dear 0244c20c\\n': 200,\n",
              " 'la': 201,\n",
              " 'R63-M0-N': 202,\n",
              " '05': 203,\n",
              " 'or': 204,\n",
              " 's ': 205,\n",
              " 'VPD': 206,\n",
              " '-U11 R0': 207,\n",
              " 'as': 208,\n",
              " '-U11 R2': 209,\n",
              " 'cal': 210,\n",
              " 'S': 211,\n",
              " 'typ': 212,\n",
              " 'ct': 213,\n",
              " ' status': 214,\n",
              " ' input ': 215,\n",
              " 'AS APP FATAL ciod: Error reading message prefix after LOAD_MESSAGE on CioStream socket to 172.16.96.116:': 216,\n",
              " '0, mask 0x02\\n': 217,\n",
              " ' dear 0244c21c\\n': 218,\n",
              " '43': 219,\n",
              " 'AS APP FATAL ciod: Error loading /bgl/apps/': 220,\n",
              " '0, mask 0x10\\n': 221,\n",
              " '-U01 R3': 222,\n",
              " '2:': 223,\n",
              " ' is ': 224,\n",
              " '-I:J18-U11 RAS KERNEL INFO ciod: generated ': 225,\n",
              " 'nd': 226,\n",
              " '-I:J18-U01 RAS KERNEL INFO ciod: generated ': 227,\n",
              " '0, mask 0x04\\n': 228,\n",
              " '-U11 RAS KERNEL INFO CE sym 2': 229,\n",
              " '0D': 230,\n",
              " 'AS KERNEL FATAL ': 231,\n",
              " '.rts\\n': 232,\n",
              " 'fu': 233,\n",
              " 'wi': 234,\n",
              " 'ck': 235,\n",
              " 'ou': 236,\n",
              " 'y': 237,\n",
              " 'sh': 238,\n",
              " ' NULL DISCOVERY INFO ': 239,\n",
              " ' v': 240,\n",
              " 'ev': 241,\n",
              " '-U11 R5': 242,\n",
              " 'AS APP FATAL ciod: LOGIN chdir(/bgl/apps/SWL/performance/MINIBEN///-18.06.0': 243,\n",
              " 'ly': 244,\n",
              " '5c\\n': 245,\n",
              " '/s': 246,\n",
              " '/r': 247,\n",
              " ' c': 248,\n",
              " 'ol': 249,\n",
              " 'UNKNOWN_LOCATION': 250,\n",
              " 'ri': 251,\n",
              " 'perature ': 252,\n",
              " '. T': 253,\n",
              " 't is ': 254,\n",
              " 'ERROR ': 255,\n",
              " 'OK': 256,\n",
              " '0, mask 0x40\\n': 257,\n",
              " 'ass': 258,\n",
              " '60': 259,\n",
              " 'al': 260,\n",
              " ' S': 261,\n",
              " '12': 262,\n",
              " 'vnm.rts: invalid or missing program image, Permission denied\\n': 263,\n",
              " 'W': 264,\n",
              " 'for ': 265,\n",
              " '-U01 R2': 266,\n",
              " ') (dcr 0x0': 267,\n",
              " 'IMB': 268,\n",
              " 'ci': 269,\n",
              " 'd ': 270,\n",
              " 'AS APP FATAL ciod: Error loading /home/yates/': 271,\n",
              " 'de ': 272,\n",
              " '3-M0-N8-C:J15': 273,\n",
              " '/M': 274,\n",
              " 'Node card ': 275,\n",
              " ' core files for program /home/': 276,\n",
              " ': invalid or missing program image, No such file or directory\\n': 277,\n",
              " ' f': 278,\n",
              " 'g': 279,\n",
              " 'AS APP FATAL ciod: LOGIN chdir(': 280,\n",
              " '15': 281,\n",
              " ' b': 282,\n",
              " '.rts: invalid or missing program image, Permission denied\\n': 283,\n",
              " '-U11 RAS KERNEL INFO iar 001061dc dear 0244c2': 284,\n",
              " 'do': 285,\n",
              " '32': 286,\n",
              " '-U01 RAS KERNEL INFO iar 001061dc dear 0244c2': 287,\n",
              " 'tes': 288,\n",
              " ', at 0x': 289,\n",
              " 'ec': 290,\n",
              " '48': 291,\n",
              " '_co': 292,\n",
              " '=0000': 293,\n",
              " '58': 294,\n",
              " 'v': 295,\n",
              " 'FFFFF': 296,\n",
              " '64 core files for program /home/': 297,\n",
              " 'lock': 298,\n",
              " 'rc': 299,\n",
              " '8\\n': 300,\n",
              " 'PS': 301,\n",
              " 'an': 302,\n",
              " 'RN': 303,\n",
              " 'torus ': 304,\n",
              " '1 ddr errors(s) detected and corrected on rank 0, symbol': 305,\n",
              " '19': 306,\n",
              " '-U11 R1': 307,\n",
              " 'el': 308,\n",
              " 'AS APP FATAL ciod: Error loading /home/spelce1/HPCC_IBM/Urgent/COP/64K/': 309,\n",
              " '.5': 310,\n",
              " 'ma': 311,\n",
              " 'total of 1': 312,\n",
              " 'it=0x0b': 313,\n",
              " 'receiv': 314,\n",
              " '/bin': 315,\n",
              " 'F:': 316,\n",
              " '2c\\n': 317,\n",
              " 'fol': 318,\n",
              " '....': 319,\n",
              " 'ted': 320,\n",
              " '_tests': 321,\n",
              " '(s': 322,\n",
              " '-U01 R1': 323,\n",
              " ': invalid or missing program image, ': 324,\n",
              " '80 dear 02494b': 325,\n",
              " '34 dear 02494c': 326,\n",
              " 'spelce1/HPCC_IBM/Urgent/VNM/': 327,\n",
              " ' ddr errors(s) detected and corrected on rank 0, symbol': 328,\n",
              " 'H': 329,\n",
              " 'K': 330,\n",
              " '02': 331,\n",
              " 'ff': 332,\n",
              " 'iar 00106210 dear 0244c23c\\n': 333,\n",
              " '5e': 334,\n",
              " '74': 335,\n",
              " 'iti': 336,\n",
              " 'il': 337,\n",
              " 'error': 338,\n",
              " '0, mask 0x80\\n': 339,\n",
              " ' 1': 340,\n",
              " 'ard': 341,\n",
              " 'torus-latency.rts: invalid or missing program image, No such file or directory\\n': 342,\n",
              " '0, mask 0x20\\n': 343,\n",
              " 'terrupt ': 344,\n",
              " '0000': 345,\n",
              " '0, mask 0x01\\n': 346,\n",
              " 'vnm': 347,\n",
              " '11': 348,\n",
              " 'U': 349,\n",
              " '/b': 350,\n",
              " 'FF': 351,\n",
              " '/g': 352,\n",
              " 'pp': 353,\n",
              " '64K': 354,\n",
              " 'x': 355,\n",
              " '0, mask 0x0': 356,\n",
              " 'Ido': 357,\n",
              " 'se': 358,\n",
              " 'ge': 359,\n",
              " 'iv': 360,\n",
              " 'tion': 361,\n",
              " 'terru': 362,\n",
              " 'be': 363,\n",
              " 'am': 364,\n",
              " 'ssing ': 365,\n",
              " 'Permission denied\\n': 366,\n",
              " ' dear 0244c': 367,\n",
              " '80': 368,\n",
              " 'is ': 369,\n",
              " ', mask': 370,\n",
              " 'tre': 371,\n",
              " '16': 372,\n",
              " 'ex': 373,\n",
              " '34': 374,\n",
              " 'NO': 375,\n",
              " ' e': 376,\n",
              " 'ction': 377,\n",
              " 'spelce1/HPCC_IBM/Urgent/COP/': 378,\n",
              " 'spelce1/HPCC_IBM/Urgent/COP/64K/': 379,\n",
              " 'tor': 380,\n",
              " 'AG': 381,\n",
              " 'AT': 382,\n",
              " 'ted. ': 383,\n",
              " ' NULL DISCOVERY ': 384,\n",
              " '-M': 385,\n",
              " 'iar 00106210': 386,\n",
              " 'bgl': 387,\n",
              " '2\\n': 388,\n",
              " '2-M0-N4': 389,\n",
              " ') detected and correc': 390,\n",
              " 'ing': 391,\n",
              " 'ED': 392,\n",
              " 'ER': 393,\n",
              " 'E ': 394,\n",
              " ' dear 02494c': 395,\n",
              " '/h': 396,\n",
              " '64K/': 397,\n",
              " 'iar 0010': 398,\n",
              " 'd: ': 399,\n",
              " 'IN': 400,\n",
              " 'total of': 401,\n",
              " '3c\\n': 402,\n",
              " ' correc': 403,\n",
              " '/home/': 404,\n",
              " '+': 405,\n",
              " 'me': 406,\n",
              " 'it=0x0': 407,\n",
              " 'parity error': 408,\n",
              " 'SWL': 409,\n",
              " ' cache ': 410,\n",
              " '0c\\n': 411,\n",
              " '1c\\n': 412,\n",
              " 'z': 413,\n",
              " 'mb': 414,\n",
              " 'fi': 415,\n",
              " '96': 416,\n",
              " 'cket ': 417,\n",
              " 'mi': 418,\n",
              " '_c': 419,\n",
              " ' dear 0244c2': 420,\n",
              " '16:': 421,\n",
              " 'j': 422,\n",
              " 'AS': 423,\n",
              " 'Error ': 424,\n",
              " 'ro': 425,\n",
              " 'or ': 426,\n",
              " 'dc': 427,\n",
              " 'orma': 428,\n",
              " ' stat': 429,\n",
              " 'gl': 430,\n",
              " 'n ': 431,\n",
              " 'PD': 432,\n",
              " 'yp': 433,\n",
              " 'tream': 434,\n",
              " ' dear 02494': 435,\n",
              " 'spelce1/HPCC_IBM/': 436,\n",
              " ' dear 02494b': 437,\n",
              " 'VER': 438,\n",
              " 'No': 439,\n",
              " ' 0x': 440,\n",
              " 'te': 441,\n",
              " 'dp': 442,\n",
              " ' NULL DISCOVERY': 443,\n",
              " '/bgl/apps/SWL/performance/MINIBEN//': 444,\n",
              " '1\\n': 445,\n",
              " ' 0x0': 446,\n",
              " 't\\n': 447,\n",
              " 't(': 448,\n",
              " ') detec': 449,\n",
              " 'sy': 450,\n",
              " 'ter': 451,\n",
              " 'ted ': 452,\n",
              " 'AP': 453,\n",
              " 'de car': 454,\n",
              " 'on ': 455,\n",
              " 'at': 456,\n",
              " ' core files for program ': 457,\n",
              " 'rts': 458,\n",
              " 'd\\n': 459,\n",
              " '1/': 460,\n",
              " 'NULL NULL RAS MMCS ERROR ': 461,\n",
              " 'AS APP FATAL ciod: Error reading message prefix after ': 462,\n",
              " 'unction': 463,\n",
              " 'ag': 464,\n",
              " '/p/gb': 465,\n",
              " ') ': 466,\n",
              " 'LOGIN': 467,\n",
              " '_MESSAGE on CioStream socket to 172.16.96.116:': 468,\n",
              " 'ch ': 469,\n",
              " '/perf': 470,\n",
              " 'sk': 471,\n",
              " 'tem': 472,\n",
              " 'ASSERT': 473,\n",
              " 'ERT': 474,\n",
              " 'Node car': 475,\n",
              " 'and': 476,\n",
              " 'O': 477,\n",
              " ' error': 478,\n",
              " 'par': 479,\n",
              " ' dear 0': 480,\n",
              " '72': 481,\n",
              " 'pre': 482,\n",
              " 'it': 483,\n",
              " 'FFFF': 484,\n",
              " '4\\n': 485,\n",
              " 'ES': 486,\n",
              " 'erf': 487,\n",
              " 'OR': 488,\n",
              " 'iar 001061': 489,\n",
              " 'UN': 490,\n",
              " 'sp': 491,\n",
              " 'af': 492,\n",
              " 'eve': 493,\n",
              " 'spelce1/': 494,\n",
              " 'MB': 495,\n",
              " 'spelce1/HPCC_IBM/Urgent/': 496,\n",
              " '/MINIBEN': 497,\n",
              " '-I:J18-U01 R': 498,\n",
              " '-I:J18-U11 R': 499,\n",
              " '0\\n': 500,\n",
              " 'to': 501,\n",
              " 'ran': 502,\n",
              " 'iar 00106210 dear 0244c2': 503,\n",
              " ' : ': 504,\n",
              " '/home': 505,\n",
              " '-M0': 506,\n",
              " 'it=0x': 507,\n",
              " 's/': 508,\n",
              " 'io': 509,\n",
              " 'yates/': 510,\n",
              " 'ndi': 511,\n",
              " 't/': 512,\n",
              " 'AS APP FATAL ciod: LOGIN chdir(/bgl/apps/SWL/performance/MINIBEN///-18.06': 513,\n",
              " 'po': 514,\n",
              " 'INFO': 515,\n",
              " ', b': 516,\n",
              " 'AS KERNEL ': 517,\n",
              " 'q': 518,\n",
              " 'CE': 519,\n",
              " '..': 520,\n",
              " 'iar 001062': 521,\n",
              " 'N': 522,\n",
              " ' NULL ': 523,\n",
              " 'CE sy': 524,\n",
              " 'db': 525,\n",
              " 'message ': 526,\n",
              " '4c': 527,\n",
              " '>': 528,\n",
              " 'program ima': 529,\n",
              " '20\\n': 530,\n",
              " 'it ': 531,\n",
              " '1 R': 532,\n",
              " 'lin': 533,\n",
              " '3-M0-N8': 534,\n",
              " 'MD': 535,\n",
              " 'NE': 536,\n",
              " '10\\n': 537,\n",
              " '/bgl/apps/SWL': 538,\n",
              " 'M/': 539,\n",
              " 'ity': 540,\n",
              " 'VN': 541,\n",
              " '//': 542,\n",
              " 'as ': 543,\n",
              " 'ddcMD': 544,\n",
              " 'invalid or missing program image, ': 545,\n",
              " 'No such file or directory\\n': 546,\n",
              " 'DI': 547,\n",
              " 'race': 548,\n",
              " ' dear 024': 549,\n",
              " 'rank': 550,\n",
              " 'tion: ': 551,\n",
              " 'F R': 552,\n",
              " '-M1': 553,\n",
              " 'cep': 554,\n",
              " '=0': 555,\n",
              " ' sy': 556,\n",
              " 'dr': 557,\n",
              " 'mbol': 558,\n",
              " 'AD': 559,\n",
              " 'nc': 560,\n",
              " 'ali': 561,\n",
              " 'irec': 562,\n",
              " 'us': 563,\n",
              " 'CC': 564,\n",
              " 'ie': 565,\n",
              " 'end': 566,\n",
              " 'torus': 567,\n",
              " 'mission': 568,\n",
              " 'nt ': 569,\n",
              " 'ating ': 570,\n",
              " '80\\n': 571,\n",
              " '6.': 572,\n",
              " 'Link': 573,\n",
              " ')\\n': 574,\n",
              " 'rror ': 575,\n",
              " '/bgl/': 576,\n",
              " ' F': 577,\n",
              " 'IO': 578,\n",
              " ',': 579,\n",
              " '!': 580,\n",
              " '?': 581,\n",
              " 'COP': 582,\n",
              " 'ache ': 583,\n",
              " 'al ': 584,\n",
              " 'CO': 585,\n",
              " 'ut ': 586,\n",
              " 'MM': 587,\n",
              " 'ERROR': 588,\n",
              " 'CATION': 589,\n",
              " '@': 590,\n",
              " '40\\n': 591,\n",
              " ' d': 592,\n",
              " 'ciod: ': 593,\n",
              " 'D ': 594,\n",
              " 'data': 595,\n",
              " '010': 596,\n",
              " 'ddc': 597,\n",
              " 'rec': 598,\n",
              " 'missing ': 599,\n",
              " 'car': 600,\n",
              " 'tat': 601,\n",
              " '-I:J18-U11 RAS KERNEL INFO ': 602,\n",
              " '-U1': 603,\n",
              " 'ts': 604,\n",
              " 'tec': 605,\n",
              " 'dat': 606,\n",
              " 'di': 607,\n",
              " ' directory': 608,\n",
              " '-C': 609,\n",
              " 'Pa': 610,\n",
              " ' de': 611,\n",
              " 'INFO ': 612,\n",
              " 'L ': 613,\n",
              " 'loating ': 614,\n",
              " 't ex': 615,\n",
              " '-I:J18-U01 RAS KERNEL INFO ': 616,\n",
              " 'RNM': 617,\n",
              " '-U': 618,\n",
              " 'm ': 619,\n",
              " 'us ': 620,\n",
              " 'tl': 621,\n",
              " ' RAS ': 622,\n",
              " '1043': 623,\n",
              " 'search parity error': 624,\n",
              " 'symbol': 625,\n",
              " ', symbol': 626,\n",
              " 'loating point ': 627,\n",
              " ' co': 628,\n",
              " 'AI': 629,\n",
              " 'NULL NULL': 630,\n",
              " 'R02-M0-N4-C:J04-U11 R02-M0-N4-C:J04': 631,\n",
              " 'NULL NULL RAS MMCS ': 632,\n",
              " '/bgl/apps/': 633,\n",
              " 'genera': 634,\n",
              " 'program ': 635,\n",
              " 'alignmen': 636,\n",
              " '::': 637,\n",
              " '0, mask 0x': 638,\n",
              " '-U0': 639,\n",
              " ' has been s': 640,\n",
              " '$': 641,\n",
              " ' detec': 642,\n",
              " 'ail': 643,\n",
              " 'parity': 644,\n",
              " 'UNKNOWN': 645,\n",
              " 'on CioStream socket to 172.16.96.116:': 646,\n",
              " ' FATAL ': 647,\n",
              " 'ception': 648,\n",
              " ' faile': 649,\n",
              " 'dir': 650,\n",
              " ' ex': 651,\n",
              " 'ido': 652,\n",
              " 'aile': 653,\n",
              " 'CS ': 654,\n",
              " 'ure ': 655,\n",
              " 'ter ': 656,\n",
              " '/p': 657,\n",
              " 'NULL NULL RAS ': 658,\n",
              " 'file ': 659,\n",
              " 'cio': 660,\n",
              " 'as been': 661,\n",
              " 'db h': 662,\n",
              " 'idoproxydb h': 663,\n",
              " 'as been s': 664,\n",
              " 'put ': 665,\n",
              " 'pera': 666,\n",
              " 'ram ': 667,\n",
              " 'ERR': 668,\n",
              " 'bgl/': 669,\n",
              " 'Per': 670,\n",
              " '2-M0-N4-C:J04': 671,\n",
              " 'LO': 672,\n",
              " 'irectory': 673,\n",
              " 'ate': 674,\n",
              " 'AS KERNEL FATAL L': 675,\n",
              " ']': 676,\n",
              " '[': 677,\n",
              " 'ssag': 678,\n",
              " 'e=': 679,\n",
              " 'gr': 680,\n",
              " ' socket ': 681,\n",
              " 'valid ': 682,\n",
              " 'iar 0': 683,\n",
              " 'es ': 684,\n",
              " 'Y': 685}"
            ]
          },
          "metadata": {},
          "execution_count": 52
        }
      ]
    },
    {
      "cell_type": "code",
      "source": [
        "encoder_bpe.save(save_path+'/bpe_word2vec.model')"
      ],
      "metadata": {
        "id": "lJz2xwlyIez5"
      },
      "execution_count": null,
      "outputs": []
    },
    {
      "cell_type": "markdown",
      "source": [
        "#W2V with BPE tokenizer"
      ],
      "metadata": {
        "id": "tbhO52XGCuNc"
      }
    },
    {
      "cell_type": "code",
      "source": [
        "from gensim.models import Word2Vec\n",
        "import numpy as np\n",
        "#encoder_path = save_path+'/word2vec.model'\n",
        "#encoder = Word2Vec.load(encoder_path)\n",
        "# text is a single clean log\n",
        "\n",
        "def Encoder_bpe(text, out_dim = 50):\n",
        "  text = tokenizer_bpe.encode(text).tokens\n",
        "  word_encd = []\n",
        "  for word in text:\n",
        "    try:\n",
        "      x = encoder_bpe.wv.get_vector(word)\n",
        "    except KeyError:\n",
        "      x = np.zeros((out_dim,))\n",
        "    word_encd.append(x)\n",
        "  x = np.array(word_encd)\n",
        "  x = x.mean(axis=0)\n",
        "  return x"
      ],
      "metadata": {
        "id": "buEhaIXKzUTa"
      },
      "execution_count": null,
      "outputs": []
    },
    {
      "cell_type": "code",
      "source": [
        "test = 'R53-M1-NB-C:J13-U01 R53-M1-NB-C:J13-U01 RAS KERNEL INFO 1 ddr errors(s) detected and corrected on rank 0, symbol 25, bit 5'\n",
        "Encoder_bpe(Cleaner(test))"
      ],
      "metadata": {
        "colab": {
          "base_uri": "https://localhost:8080/"
        },
        "id": "_F1ywGFnKWLm",
        "outputId": "e710f7d9-c79e-4676-e4e5-748c6bd63a85"
      },
      "execution_count": null,
      "outputs": [
        {
          "output_type": "execute_result",
          "data": {
            "text/plain": [
              "array([ 0.75907815, -1.04062   ,  1.0004829 , -1.8830768 , -1.2168101 ,\n",
              "        0.96167123,  0.82348686, -3.0034652 , -1.7424    , -3.735474  ,\n",
              "       -0.64232343,  1.068114  , -0.8800181 , -2.0468874 , -1.4233224 ,\n",
              "        0.20631637, -1.1317705 , -0.1316223 , -0.99989676,  0.22540484,\n",
              "       -0.32084846,  0.48956272, -0.65741163,  0.6877553 ,  0.5431522 ,\n",
              "        0.46263033,  2.4752517 ,  0.06142056,  1.4557103 ,  1.1757616 ,\n",
              "        1.6000913 ,  1.2547634 ,  0.01456471, -1.7094446 ,  0.4439111 ,\n",
              "        0.9882942 , -1.8566906 , -0.44048327,  1.9332047 , -0.29369247,\n",
              "        1.6866869 , -0.77969337,  0.14128543,  1.3626131 ,  1.3455446 ,\n",
              "        1.1051676 ,  0.51945263, -4.2469764 , -1.9163488 ,  0.15183213],\n",
              "      dtype=float32)"
            ]
          },
          "metadata": {},
          "execution_count": 55
        }
      ]
    },
    {
      "cell_type": "markdown",
      "source": [
        "#Saving embedded dataset"
      ],
      "metadata": {
        "id": "76ImYaONLQv6"
      }
    },
    {
      "cell_type": "code",
      "source": [
        "import csv\n",
        "from tqdm import tqdm\n",
        "with open(save_path+'/train_bpe_50.csv', 'w', newline='') as file:  #change file name\n",
        "  writer = csv.writer(file)\n",
        "  for log in tqdm(log_list_train):\n",
        "    writer.writerow(Encoder_bpe(log))"
      ],
      "metadata": {
        "colab": {
          "base_uri": "https://localhost:8080/"
        },
        "id": "1MH4BzQfLZ3m",
        "outputId": "6a0e2fbb-20b3-4e2d-bcef-074b928b2e44"
      },
      "execution_count": null,
      "outputs": [
        {
          "output_type": "stream",
          "name": "stderr",
          "text": [
            "100%|██████████| 500001/500001 [01:02<00:00, 7954.60it/s] \n"
          ]
        }
      ]
    },
    {
      "cell_type": "code",
      "source": [
        "log_list_test = []\n",
        "with open(save_path+'/test.txt') as logs:\n",
        "  for log in logs:\n",
        "    log_list_test.append(log)"
      ],
      "metadata": {
        "id": "aKZjQrEIL570"
      },
      "execution_count": null,
      "outputs": []
    },
    {
      "cell_type": "code",
      "source": [
        "import csv\n",
        "from tqdm import tqdm\n",
        "with open(save_path+'/test_bpe_50.csv', 'w', newline='') as file:  #change file name\n",
        "  writer = csv.writer(file)\n",
        "  for log in tqdm(log_list_test):\n",
        "    writer.writerow(Encoder_bpe(log))"
      ],
      "metadata": {
        "colab": {
          "base_uri": "https://localhost:8080/"
        },
        "id": "iBRG_XR0L00Q",
        "outputId": "6a647883-f4c2-4fac-daeb-8c71d135e18b"
      },
      "execution_count": null,
      "outputs": [
        {
          "output_type": "stream",
          "name": "stderr",
          "text": [
            "100%|██████████| 20000/20000 [00:02<00:00, 9083.11it/s]\n"
          ]
        }
      ]
    },
    {
      "cell_type": "markdown",
      "source": [
        "#Traning Anomaly Transformer"
      ],
      "metadata": {
        "id": "QaMFNUS-YYIY"
      }
    },
    {
      "cell_type": "code",
      "source": [
        "#dataset = 'BGL_'\n",
        "data_path = '/content/drive/MyDrive/LLM_cx/Anomaly-Transformer/dataset/My_BGL'\n",
        "input_c = out_dim\n",
        "output_c = out_dim"
      ],
      "metadata": {
        "id": "NlklxeoHZ1vL"
      },
      "execution_count": null,
      "outputs": []
    },
    {
      "cell_type": "markdown",
      "source": [
        "Remember to change\n",
        "1. Train and test file names\n",
        "2. checkpoint name\n",
        "3. Input size (out_dim)"
      ],
      "metadata": {
        "id": "6knCFl4Od9Q2"
      }
    },
    {
      "cell_type": "markdown",
      "source": [
        "#1. W2V, dim = 50"
      ],
      "metadata": {
        "id": "367CiAZvbEpk"
      }
    },
    {
      "cell_type": "code",
      "source": [
        "%cd /content/drive/MyDrive/LLM_cx/Anomaly-Transformer"
      ],
      "metadata": {
        "colab": {
          "base_uri": "https://localhost:8080/"
        },
        "id": "QZrFxRCzlAmD",
        "outputId": "05903255-a1b8-43db-b682-257177771349"
      },
      "execution_count": null,
      "outputs": [
        {
          "output_type": "stream",
          "name": "stdout",
          "text": [
            "/content/drive/MyDrive/LLM_cx/Anomaly-Transformer\n"
          ]
        }
      ]
    },
    {
      "cell_type": "code",
      "source": [
        "!export CUDA_VISIBLE_DEVICES=0\n",
        "\n",
        "!python main.py --anormly_ratio 1 --num_epochs 3 --batch_size 256 --mode train --dataset BGL_ --data_path /content/drive/MyDrive/LLM_cx/Anomaly-Transformer/dataset/My_BGL --input_c 50 --output_c 50\n",
        "!python main.py --anormly_ratio 1 --num_epochs 10 --batch_size 256 --mode test --dataset BGL_ --data_path /content/drive/MyDrive/LLM_cx/Anomaly-Transformer/dataset/My_BGL --input_c 50 --output_c 50 --pretrained_model 20"
      ],
      "metadata": {
        "id": "wxrR_G_zXrK0",
        "colab": {
          "base_uri": "https://localhost:8080/"
        },
        "outputId": "82259031-b00e-43e5-f346-9dd157a55122"
      },
      "execution_count": null,
      "outputs": [
        {
          "output_type": "stream",
          "name": "stdout",
          "text": [
            "------------ Options -------------\n",
            "anormly_ratio: 1.0\n",
            "batch_size: 256\n",
            "data_path: /content/drive/MyDrive/LLM_cx/Anomaly-Transformer/dataset/My_BGL\n",
            "dataset: BGL_\n",
            "input_c: 50\n",
            "k: 3\n",
            "lr: 0.0001\n",
            "mode: train\n",
            "model_save_path: checkpoints\n",
            "num_epochs: 3\n",
            "output_c: 50\n",
            "pretrained_model: None\n",
            "win_size: 100\n",
            "-------------- End ----------------\n",
            "test: (19999, 50)\n",
            "train: (500000, 50)\n",
            "test_label: (19999, 1)\n",
            "test: (19999, 50)\n",
            "train: (500000, 50)\n",
            "test_label: (19999, 1)\n",
            "test: (19999, 50)\n",
            "train: (500000, 50)\n",
            "test_label: (19999, 1)\n",
            "test: (19999, 50)\n",
            "train: (500000, 50)\n",
            "test_label: (19999, 1)\n",
            "======================TRAIN MODE======================\n",
            "\tspeed: 0.6774s/iter; left time: 3901.6323s\n",
            "\tspeed: 0.6788s/iter; left time: 3841.8563s\n",
            "\tspeed: 0.6863s/iter; left time: 3816.0138s\n",
            "\tspeed: 0.6896s/iter; left time: 3765.3675s\n",
            "\tspeed: 0.6923s/iter; left time: 3710.9220s\n",
            "\tspeed: 0.6929s/iter; left time: 3644.8294s\n",
            "\tspeed: 0.6921s/iter; left time: 3571.4118s\n",
            "\tspeed: 0.6923s/iter; left time: 3503.2076s\n",
            "\tspeed: 0.6911s/iter; left time: 3427.8404s\n",
            "\tspeed: 0.6894s/iter; left time: 3350.5727s\n",
            "\tspeed: 0.6893s/iter; left time: 3281.1922s\n",
            "\tspeed: 0.6889s/iter; left time: 3210.4609s\n",
            "\tspeed: 0.6891s/iter; left time: 3142.1221s\n",
            "\tspeed: 0.6881s/iter; left time: 3069.0311s\n",
            "\tspeed: 0.6889s/iter; left time: 3003.5343s\n",
            "\tspeed: 0.6890s/iter; left time: 2935.2492s\n",
            "\tspeed: 0.6878s/iter; left time: 2861.1204s\n",
            "\tspeed: 0.6877s/iter; left time: 2792.0256s\n",
            "\tspeed: 0.6860s/iter; left time: 2716.5063s\n",
            "Epoch: 1 cost time: 1344.7033369541168\n",
            "Epoch: 1, Steps: 1953 | Train Loss: -47.4291029 Vali Loss: -48.6372435 \n",
            "Validation loss decreased (inf --> -48.637244).  Saving model ...\n",
            "Updating learning rate to 0.0001\n",
            "\tspeed: 1.2236s/iter; left time: 4658.3395s\n",
            "\tspeed: 0.6852s/iter; left time: 2540.1074s\n",
            "\tspeed: 0.6865s/iter; left time: 2476.2719s\n",
            "\tspeed: 0.6853s/iter; left time: 2403.3477s\n",
            "\tspeed: 0.6866s/iter; left time: 2339.1758s\n",
            "\tspeed: 0.6850s/iter; left time: 2265.2874s\n",
            "\tspeed: 0.6847s/iter; left time: 2195.9889s\n",
            "\tspeed: 0.6847s/iter; left time: 2127.3000s\n",
            "\tspeed: 0.6838s/iter; left time: 2056.2360s\n",
            "\tspeed: 0.6855s/iter; left time: 1992.7172s\n",
            "\tspeed: 0.6867s/iter; left time: 1927.5192s\n",
            "\tspeed: 0.6859s/iter; left time: 1856.7042s\n",
            "\tspeed: 0.6861s/iter; left time: 1788.7568s\n",
            "\tspeed: 0.6870s/iter; left time: 1722.3161s\n",
            "\tspeed: 0.6865s/iter; left time: 1652.2931s\n",
            "\tspeed: 0.6866s/iter; left time: 1583.9951s\n",
            "\tspeed: 0.6857s/iter; left time: 1513.3662s\n",
            "\tspeed: 0.6852s/iter; left time: 1443.8038s\n",
            "\tspeed: 0.6847s/iter; left time: 1374.2014s\n",
            "Epoch: 2 cost time: 1338.5668096542358\n",
            "Epoch: 2, Steps: 1953 | Train Loss: -48.8137020 Vali Loss: -48.8828123 \n",
            "EarlyStopping counter: 1 out of 3\n",
            "Updating learning rate to 5e-05\n",
            "\tspeed: 1.2147s/iter; left time: 2252.0525s\n",
            "\tspeed: 0.6849s/iter; left time: 1201.3167s\n",
            "\tspeed: 0.6843s/iter; left time: 1131.7664s\n",
            "\tspeed: 0.6823s/iter; left time: 1060.2768s\n",
            "\tspeed: 0.6819s/iter; left time: 991.5410s\n",
            "\tspeed: 0.6806s/iter; left time: 921.5651s\n",
            "\tspeed: 0.6800s/iter; left time: 852.7559s\n",
            "\tspeed: 0.6806s/iter; left time: 785.3687s\n",
            "\tspeed: 0.6816s/iter; left time: 718.4153s\n",
            "\tspeed: 0.6815s/iter; left time: 650.1288s\n",
            "\tspeed: 0.6812s/iter; left time: 581.7844s\n",
            "\tspeed: 0.6814s/iter; left time: 513.7747s\n",
            "\tspeed: 0.6816s/iter; left time: 445.7687s\n",
            "\tspeed: 0.6826s/iter; left time: 378.1746s\n",
            "\tspeed: 0.6816s/iter; left time: 309.4561s\n",
            "\tspeed: 0.6819s/iter; left time: 241.4027s\n",
            "\tspeed: 0.6825s/iter; left time: 173.3657s\n",
            "\tspeed: 0.6828s/iter; left time: 105.1490s\n",
            "\tspeed: 0.6825s/iter; left time: 36.8566s\n",
            "Epoch: 3 cost time: 1331.82501745224\n",
            "Epoch: 3, Steps: 1953 | Train Loss: -48.8799573 Vali Loss: -48.9073105 \n",
            "EarlyStopping counter: 2 out of 3\n",
            "Updating learning rate to 2.5e-05\n",
            "------------ Options -------------\n",
            "anormly_ratio: 1.0\n",
            "batch_size: 256\n",
            "data_path: /content/drive/MyDrive/LLM_cx/Anomaly-Transformer/dataset/My_BGL\n",
            "dataset: BGL_\n",
            "input_c: 50\n",
            "k: 3\n",
            "lr: 0.0001\n",
            "mode: test\n",
            "model_save_path: checkpoints\n",
            "num_epochs: 10\n",
            "output_c: 50\n",
            "pretrained_model: 20\n",
            "win_size: 100\n",
            "-------------- End ----------------\n",
            "test: (19999, 50)\n",
            "train: (500000, 50)\n",
            "test_label: (19999, 1)\n",
            "test: (19999, 50)\n",
            "train: (500000, 50)\n",
            "test_label: (19999, 1)\n",
            "test: (19999, 50)\n",
            "train: (500000, 50)\n",
            "test_label: (19999, 1)\n",
            "test: (19999, 50)\n",
            "train: (500000, 50)\n",
            "test_label: (19999, 1)\n",
            "Traceback (most recent call last):\n",
            "  File \"/content/drive/MyDrive/LLM_cx/Anomaly-Transformer/main.py\", line 52, in <module>\n",
            "    main(config)\n",
            "  File \"/content/drive/MyDrive/LLM_cx/Anomaly-Transformer/main.py\", line 23, in main\n",
            "    solver.test()\n",
            "  File \"/content/drive/MyDrive/LLM_cx/Anomaly-Transformer/solver.py\", line 207, in test\n",
            "    self.model.load_state_dict(\n",
            "  File \"/usr/local/lib/python3.10/dist-packages/torch/nn/modules/module.py\", line 2041, in load_state_dict\n",
            "    raise RuntimeError('Error(s) in loading state_dict for {}:\\n\\t{}'.format(\n",
            "RuntimeError: Error(s) in loading state_dict for AnomalyTransformer:\n",
            "\tsize mismatch for embedding.value_embedding.tokenConv.weight: copying a param with shape torch.Size([512, 25, 3]) from checkpoint, the shape in current model is torch.Size([512, 50, 3]).\n",
            "\tsize mismatch for projection.weight: copying a param with shape torch.Size([25, 512]) from checkpoint, the shape in current model is torch.Size([50, 512]).\n",
            "\tsize mismatch for projection.bias: copying a param with shape torch.Size([25]) from checkpoint, the shape in current model is torch.Size([50]).\n"
          ]
        }
      ]
    },
    {
      "cell_type": "code",
      "source": [
        "!python main.py --anormly_ratio 1 --num_epochs 10 --batch_size 256 --mode test --dataset BGL_ --data_path /content/drive/MyDrive/LLM_cx/Anomaly-Transformer/dataset/My_BGL --input_c 50 --output_c 50 --pretrained_model 20"
      ],
      "metadata": {
        "colab": {
          "base_uri": "https://localhost:8080/"
        },
        "id": "I7WpNb5fklol",
        "outputId": "40aa122e-bf9f-4dca-8e84-3b0f60858bbd"
      },
      "execution_count": null,
      "outputs": [
        {
          "output_type": "stream",
          "name": "stdout",
          "text": [
            "------------ Options -------------\n",
            "anormly_ratio: 1.0\n",
            "batch_size: 256\n",
            "data_path: /content/drive/MyDrive/LLM_cx/Anomaly-Transformer/dataset/My_BGL\n",
            "dataset: BGL_\n",
            "input_c: 50\n",
            "k: 3\n",
            "lr: 0.0001\n",
            "mode: test\n",
            "model_save_path: checkpoints\n",
            "num_epochs: 10\n",
            "output_c: 50\n",
            "pretrained_model: 20\n",
            "win_size: 100\n",
            "-------------- End ----------------\n",
            "test: (19999, 50)\n",
            "train: (500000, 50)\n",
            "test_label: (19999, 1)\n",
            "test: (19999, 50)\n",
            "train: (500000, 50)\n",
            "test_label: (19999, 1)\n",
            "test: (19999, 50)\n",
            "train: (500000, 50)\n",
            "test_label: (19999, 1)\n",
            "test: (19999, 50)\n",
            "train: (500000, 50)\n",
            "test_label: (19999, 1)\n",
            "======================TEST MODE======================\n",
            "/usr/local/lib/python3.10/dist-packages/torch/nn/_reduction.py:42: UserWarning: size_average and reduce args will be deprecated, please use reduction='none' instead.\n",
            "  warnings.warn(warning.format(ret))\n",
            "Threshold : 0.0014044168835971463\n",
            "pred:    (19900,)\n",
            "gt:      (19900,)\n",
            "pred:  (19900,)\n",
            "gt:    (19900,)\n",
            "TP: 285, FP: 230, TN: 19358, FN: 27\n",
            "285 230 19358 27\n",
            "515\n",
            "312\n",
            "Accuracy : 0.9871, Precision : 0.5534, Recall : 0.9135, F-score : 0.6892 \n"
          ]
        }
      ]
    },
    {
      "cell_type": "markdown",
      "source": [
        "#2. S_TF, dim = 50"
      ],
      "metadata": {
        "id": "T-4bZeBR4gkh"
      }
    },
    {
      "cell_type": "code",
      "source": [
        "!export CUDA_VISIBLE_DEVICES=0\n",
        "\n",
        "!python main.py --anormly_ratio 1 --num_epochs 3 --batch_size 256 --mode train --dataset BGL_ --data_path /content/drive/MyDrive/LLM_cx/Anomaly-Transformer/dataset/My_BGL --input_c 50 --output_c 50\n",
        "!python main.py --anormly_ratio 1 --num_epochs 10 --batch_size 256 --mode test --dataset BGL_ --data_path /content/drive/MyDrive/LLM_cx/Anomaly-Transformer/dataset/My_BGL --input_c 50 --output_c 50 --pretrained_model 20"
      ],
      "metadata": {
        "colab": {
          "base_uri": "https://localhost:8080/"
        },
        "id": "Gfh1jGbw1IZF",
        "outputId": "6dbce739-7714-413f-c7cd-35fbd0bbe9f7"
      },
      "execution_count": null,
      "outputs": [
        {
          "output_type": "stream",
          "name": "stdout",
          "text": [
            "------------ Options -------------\n",
            "anormly_ratio: 1.0\n",
            "batch_size: 256\n",
            "data_path: /content/drive/MyDrive/LLM_cx/Anomaly-Transformer/dataset/My_BGL\n",
            "dataset: BGL_\n",
            "input_c: 50\n",
            "k: 3\n",
            "lr: 0.0001\n",
            "mode: train\n",
            "model_save_path: checkpoints\n",
            "num_epochs: 3\n",
            "output_c: 50\n",
            "pretrained_model: None\n",
            "win_size: 100\n",
            "-------------- End ----------------\n",
            "test: (19999, 50)\n",
            "train: (500000, 50)\n",
            "test_label: (19999, 1)\n",
            "test: (19999, 50)\n",
            "train: (500000, 50)\n",
            "test_label: (19999, 1)\n",
            "test: (19999, 50)\n",
            "train: (500000, 50)\n",
            "test_label: (19999, 1)\n",
            "test: (19999, 50)\n",
            "train: (500000, 50)\n",
            "test_label: (19999, 1)\n",
            "======================TRAIN MODE======================\n",
            "\tspeed: 0.6751s/iter; left time: 3888.4700s\n",
            "\tspeed: 0.6862s/iter; left time: 3883.8802s\n",
            "\tspeed: 0.6917s/iter; left time: 3846.0649s\n",
            "\tspeed: 0.6957s/iter; left time: 3798.6741s\n",
            "\tspeed: 0.6982s/iter; left time: 3742.1300s\n",
            "\tspeed: 0.6990s/iter; left time: 3676.5404s\n",
            "\tspeed: 0.6994s/iter; left time: 3609.1335s\n",
            "\tspeed: 0.6982s/iter; left time: 3532.9841s\n",
            "\tspeed: 0.6985s/iter; left time: 3464.4549s\n",
            "\tspeed: 0.6972s/iter; left time: 3388.5733s\n",
            "\tspeed: 0.6965s/iter; left time: 3315.5271s\n",
            "\tspeed: 0.6961s/iter; left time: 3243.9854s\n",
            "\tspeed: 0.6963s/iter; left time: 3175.3062s\n",
            "\tspeed: 0.6949s/iter; left time: 3099.3757s\n",
            "\tspeed: 0.6945s/iter; left time: 3028.0205s\n",
            "\tspeed: 0.6948s/iter; left time: 2960.0456s\n",
            "\tspeed: 0.6944s/iter; left time: 2888.7412s\n",
            "\tspeed: 0.6943s/iter; left time: 2818.9601s\n",
            "\tspeed: 0.6936s/iter; left time: 2746.6505s\n",
            "Epoch: 1 cost time: 1356.7975723743439\n",
            "Epoch: 1, Steps: 1953 | Train Loss: -47.1697847 Vali Loss: -48.6678961 \n",
            "Validation loss decreased (inf --> -48.667896).  Saving model ...\n",
            "Updating learning rate to 0.0001\n",
            "\tspeed: 1.2348s/iter; left time: 4700.9286s\n",
            "\tspeed: 0.6921s/iter; left time: 2565.6484s\n",
            "\tspeed: 0.6919s/iter; left time: 2495.7845s\n",
            "\tspeed: 0.6905s/iter; left time: 2421.4171s\n",
            "\tspeed: 0.6898s/iter; left time: 2350.0803s\n",
            "\tspeed: 0.6915s/iter; left time: 2286.8850s\n",
            "\tspeed: 0.6909s/iter; left time: 2215.6535s\n",
            "\tspeed: 0.6906s/iter; left time: 2145.6521s\n",
            "\tspeed: 0.6905s/iter; left time: 2076.2873s\n",
            "\tspeed: 0.6910s/iter; left time: 2008.7187s\n",
            "\tspeed: 0.6904s/iter; left time: 1937.9652s\n",
            "\tspeed: 0.6902s/iter; left time: 1868.4893s\n",
            "\tspeed: 0.6913s/iter; left time: 1802.1022s\n",
            "\tspeed: 0.6931s/iter; left time: 1737.5918s\n",
            "\tspeed: 0.6915s/iter; left time: 1664.3935s\n",
            "\tspeed: 0.6915s/iter; left time: 1595.3193s\n",
            "\tspeed: 0.6940s/iter; left time: 1531.5976s\n",
            "\tspeed: 0.6922s/iter; left time: 1458.4633s\n",
            "\tspeed: 0.6903s/iter; left time: 1385.5283s\n",
            "Epoch: 2 cost time: 1349.9249391555786\n",
            "Epoch: 2, Steps: 1953 | Train Loss: -48.7686576 Vali Loss: -48.6953168 \n",
            "EarlyStopping counter: 1 out of 3\n",
            "Updating learning rate to 5e-05\n",
            "\tspeed: 1.2262s/iter; left time: 2273.3308s\n",
            "\tspeed: 0.6913s/iter; left time: 1212.5421s\n",
            "\tspeed: 0.6911s/iter; left time: 1143.1262s\n",
            "\tspeed: 0.6929s/iter; left time: 1076.7340s\n",
            "\tspeed: 0.6903s/iter; left time: 1003.6963s\n",
            "\tspeed: 0.6895s/iter; left time: 933.5337s\n",
            "\tspeed: 0.6898s/iter; left time: 864.9601s\n",
            "\tspeed: 0.6898s/iter; left time: 796.0617s\n",
            "\tspeed: 0.6898s/iter; left time: 727.0661s\n",
            "\tspeed: 0.6903s/iter; left time: 658.5107s\n",
            "\tspeed: 0.6935s/iter; left time: 592.2913s\n",
            "\tspeed: 0.6926s/iter; left time: 522.2194s\n",
            "\tspeed: 0.6927s/iter; left time: 453.0060s\n",
            "\tspeed: 0.6926s/iter; left time: 383.6911s\n",
            "\tspeed: 0.6918s/iter; left time: 314.0708s\n",
            "\tspeed: 0.6916s/iter; left time: 244.8098s\n",
            "\tspeed: 0.6914s/iter; left time: 175.6076s\n",
            "\tspeed: 0.6932s/iter; left time: 106.7538s\n",
            "\tspeed: 0.6927s/iter; left time: 37.4034s\n",
            "Epoch: 3 cost time: 1350.1330859661102\n",
            "Epoch: 3, Steps: 1953 | Train Loss: -48.6310310 Vali Loss: -48.8328317 \n",
            "EarlyStopping counter: 2 out of 3\n",
            "Updating learning rate to 2.5e-05\n",
            "------------ Options -------------\n",
            "anormly_ratio: 1.0\n",
            "batch_size: 256\n",
            "data_path: /content/drive/MyDrive/LLM_cx/Anomaly-Transformer/dataset/My_BGL\n",
            "dataset: BGL_\n",
            "input_c: 50\n",
            "k: 3\n",
            "lr: 0.0001\n",
            "mode: test\n",
            "model_save_path: checkpoints\n",
            "num_epochs: 10\n",
            "output_c: 50\n",
            "pretrained_model: 20\n",
            "win_size: 100\n",
            "-------------- End ----------------\n",
            "test: (19999, 50)\n",
            "train: (500000, 50)\n",
            "test_label: (19999, 1)\n",
            "test: (19999, 50)\n",
            "train: (500000, 50)\n",
            "test_label: (19999, 1)\n",
            "test: (19999, 50)\n",
            "train: (500000, 50)\n",
            "test_label: (19999, 1)\n",
            "test: (19999, 50)\n",
            "train: (500000, 50)\n",
            "test_label: (19999, 1)\n",
            "======================TEST MODE======================\n",
            "/usr/local/lib/python3.10/dist-packages/torch/nn/_reduction.py:42: UserWarning: size_average and reduce args will be deprecated, please use reduction='none' instead.\n",
            "  warnings.warn(warning.format(ret))\n",
            "Threshold : 0.004332654359750412\n",
            "pred:    (19900,)\n",
            "gt:      (19900,)\n",
            "pred:  (19900,)\n",
            "gt:    (19900,)\n",
            "TP: 285, FP: 221, TN: 19367, FN: 27\n",
            "285 221 19367 27\n",
            "506\n",
            "312\n",
            "Accuracy : 0.9875, Precision : 0.5632, Recall : 0.9135, F-score : 0.6968 \n"
          ]
        }
      ]
    },
    {
      "cell_type": "code",
      "source": [],
      "metadata": {
        "id": "0kZ85BWJ5OCN"
      },
      "execution_count": null,
      "outputs": []
    },
    {
      "cell_type": "markdown",
      "source": [
        "#3. BPE W2V, dim = 50"
      ],
      "metadata": {
        "id": "r1mfa9lkS0It"
      }
    },
    {
      "cell_type": "code",
      "source": [
        "%cd /content/drive/MyDrive/Anomaly-Transformer"
      ],
      "metadata": {
        "id": "dXaDO_JxS9ph",
        "colab": {
          "base_uri": "https://localhost:8080/"
        },
        "outputId": "14395c44-9e0e-4e95-9f80-bcd4e217a35f"
      },
      "execution_count": null,
      "outputs": [
        {
          "output_type": "stream",
          "name": "stdout",
          "text": [
            "/content/drive/.shortcut-targets-by-id/1a1eKLOfAoKgnjEEnc0zFX_lA4weTP_gV/Anomaly-Transformer\n"
          ]
        }
      ]
    },
    {
      "cell_type": "markdown",
      "source": [
        "training this from different account, directories would change"
      ],
      "metadata": {
        "id": "eLcbdtwBUEYR"
      }
    },
    {
      "cell_type": "code",
      "source": [
        "!export CUDA_VISIBLE_DEVICES=0\n",
        "\n",
        "!python main.py --anormly_ratio 1 --num_epochs 3 --batch_size 256 --mode train --dataset BGL_ --data_path /content/drive/MyDrive/Anomaly-Transformer/dataset/My_BGL --input_c 50 --output_c 50\n",
        "!python main.py --anormly_ratio 1 --num_epochs 10 --batch_size 256 --mode test --dataset BGL_ --data_path /content/drive/MyDrive/Anomaly-Transformer/dataset/My_BGL --input_c 50 --output_c 50 --pretrained_model 20"
      ],
      "metadata": {
        "id": "W2M29ktcTCuS",
        "colab": {
          "base_uri": "https://localhost:8080/"
        },
        "outputId": "0acf072a-546c-4890-d5e5-3ae5a1f50102"
      },
      "execution_count": null,
      "outputs": [
        {
          "output_type": "stream",
          "name": "stdout",
          "text": [
            "------------ Options -------------\n",
            "anormly_ratio: 1.0\n",
            "batch_size: 256\n",
            "data_path: /content/drive/MyDrive/Anomaly-Transformer/dataset/My_BGL\n",
            "dataset: BGL_\n",
            "input_c: 50\n",
            "k: 3\n",
            "lr: 0.0001\n",
            "mode: train\n",
            "model_save_path: checkpoints\n",
            "num_epochs: 3\n",
            "output_c: 50\n",
            "pretrained_model: None\n",
            "win_size: 100\n",
            "-------------- End ----------------\n",
            "test: (19999, 50)\n",
            "train: (500000, 50)\n",
            "test_label: (19999, 1)\n",
            "test: (19999, 50)\n",
            "train: (500000, 50)\n",
            "test_label: (19999, 1)\n",
            "test: (19999, 50)\n",
            "train: (500000, 50)\n",
            "test_label: (19999, 1)\n",
            "test: (19999, 50)\n",
            "train: (500000, 50)\n",
            "test_label: (19999, 1)\n",
            "======================TRAIN MODE======================\n",
            "\tspeed: 0.6837s/iter; left time: 3938.2967s\n",
            "\tspeed: 0.6935s/iter; left time: 3925.3569s\n",
            "\tspeed: 0.6905s/iter; left time: 3839.0664s\n",
            "\tspeed: 0.6906s/iter; left time: 3770.4057s\n",
            "\tspeed: 0.6900s/iter; left time: 3698.4958s\n",
            "\tspeed: 0.6891s/iter; left time: 3624.7958s\n",
            "\tspeed: 0.6888s/iter; left time: 3554.1231s\n",
            "\tspeed: 0.6887s/iter; left time: 3484.6835s\n",
            "\tspeed: 0.6883s/iter; left time: 3413.9479s\n",
            "\tspeed: 0.6872s/iter; left time: 3339.8083s\n",
            "\tspeed: 0.6860s/iter; left time: 3265.5601s\n",
            "\tspeed: 0.6854s/iter; left time: 3193.9410s\n",
            "\tspeed: 0.6843s/iter; left time: 3120.3387s\n",
            "\tspeed: 0.6838s/iter; left time: 3049.8407s\n",
            "\tspeed: 0.6839s/iter; left time: 2981.5897s\n",
            "\tspeed: 0.6832s/iter; left time: 2910.5865s\n",
            "\tspeed: 0.6834s/iter; left time: 2843.0438s\n",
            "\tspeed: 0.6820s/iter; left time: 2768.8932s\n",
            "\tspeed: 0.6814s/iter; left time: 2698.3703s\n",
            "Epoch: 1 cost time: 1341.2035813331604\n",
            "Epoch: 1, Steps: 1953 | Train Loss: -47.5613493 Vali Loss: -48.7142418 \n",
            "Validation loss decreased (inf --> -48.714242).  Saving model ...\n",
            "Updating learning rate to 0.0001\n",
            "\tspeed: 1.2147s/iter; left time: 4624.3480s\n",
            "\tspeed: 0.6812s/iter; left time: 2525.3174s\n",
            "\tspeed: 0.6804s/iter; left time: 2454.1879s\n",
            "\tspeed: 0.6807s/iter; left time: 2387.1705s\n",
            "\tspeed: 0.6815s/iter; left time: 2321.8386s\n",
            "\tspeed: 0.6809s/iter; left time: 2251.7491s\n",
            "\tspeed: 0.6801s/iter; left time: 2180.9634s\n",
            "\tspeed: 0.6799s/iter; left time: 2112.5578s\n",
            "\tspeed: 0.6806s/iter; left time: 2046.4535s\n",
            "\tspeed: 0.6808s/iter; left time: 1979.0130s\n",
            "\tspeed: 0.6791s/iter; left time: 1906.2324s\n",
            "\tspeed: 0.6796s/iter; left time: 1839.6672s\n",
            "\tspeed: 0.6794s/iter; left time: 1771.2203s\n",
            "\tspeed: 0.6789s/iter; left time: 1701.9689s\n",
            "\tspeed: 0.6790s/iter; left time: 1634.3510s\n",
            "\tspeed: 0.6788s/iter; left time: 1566.1019s\n",
            "\tspeed: 0.6797s/iter; left time: 1500.0168s\n",
            "\tspeed: 0.6789s/iter; left time: 1430.5207s\n",
            "\tspeed: 0.6789s/iter; left time: 1362.6047s\n",
            "Epoch: 2 cost time: 1327.556020975113\n",
            "Epoch: 2, Steps: 1953 | Train Loss: -48.8394483 Vali Loss: -48.8321266 \n",
            "EarlyStopping counter: 1 out of 3\n",
            "Updating learning rate to 5e-05\n",
            "\tspeed: 1.2005s/iter; left time: 2225.8170s\n",
            "\tspeed: 0.6790s/iter; left time: 1191.0073s\n",
            "\tspeed: 0.6787s/iter; left time: 1122.6063s\n",
            "\tspeed: 0.6788s/iter; left time: 1054.9314s\n",
            "\tspeed: 0.6790s/iter; left time: 987.2579s\n",
            "\tspeed: 0.6788s/iter; left time: 919.0852s\n",
            "\tspeed: 0.6789s/iter; left time: 851.3780s\n",
            "\tspeed: 0.6790s/iter; left time: 783.6179s\n",
            "\tspeed: 0.6789s/iter; left time: 715.5412s\n",
            "\tspeed: 0.6787s/iter; left time: 647.5114s\n",
            "\tspeed: 0.6787s/iter; left time: 579.6189s\n",
            "\tspeed: 0.6788s/iter; left time: 511.8051s\n",
            "\tspeed: 0.6788s/iter; left time: 443.9052s\n",
            "\tspeed: 0.6788s/iter; left time: 376.0783s\n",
            "\tspeed: 0.6787s/iter; left time: 308.1322s\n",
            "\tspeed: 0.6785s/iter; left time: 240.1840s\n",
            "\tspeed: 0.6783s/iter; left time: 172.2880s\n",
            "\tspeed: 0.6779s/iter; left time: 104.3984s\n",
            "\tspeed: 0.6782s/iter; left time: 36.6240s\n",
            "Epoch: 3 cost time: 1325.0552756786346\n",
            "Epoch: 3, Steps: 1953 | Train Loss: -48.8939538 Vali Loss: -48.8677276 \n",
            "EarlyStopping counter: 2 out of 3\n",
            "Updating learning rate to 2.5e-05\n",
            "------------ Options -------------\n",
            "anormly_ratio: 1.0\n",
            "batch_size: 256\n",
            "data_path: /content/drive/MyDrive/Anomaly-Transformer/dataset/My_BGL\n",
            "dataset: BGL_\n",
            "input_c: 50\n",
            "k: 3\n",
            "lr: 0.0001\n",
            "mode: test\n",
            "model_save_path: checkpoints\n",
            "num_epochs: 10\n",
            "output_c: 50\n",
            "pretrained_model: 20\n",
            "win_size: 100\n",
            "-------------- End ----------------\n",
            "test: (19999, 50)\n",
            "train: (500000, 50)\n",
            "test_label: (19999, 1)\n",
            "test: (19999, 50)\n",
            "train: (500000, 50)\n",
            "test_label: (19999, 1)\n",
            "test: (19999, 50)\n",
            "train: (500000, 50)\n",
            "test_label: (19999, 1)\n",
            "test: (19999, 50)\n",
            "train: (500000, 50)\n",
            "test_label: (19999, 1)\n",
            "======================TEST MODE======================\n",
            "/usr/local/lib/python3.10/dist-packages/torch/nn/_reduction.py:42: UserWarning: size_average and reduce args will be deprecated, please use reduction='none' instead.\n",
            "  warnings.warn(warning.format(ret))\n",
            "Threshold : 0.0014643570256885124\n",
            "pred:    (19900,)\n",
            "gt:      (19900,)\n",
            "pred:  (19900,)\n",
            "gt:    (19900,)\n",
            "TP: 286, FP: 235, TN: 19353, FN: 26\n",
            "286 235 19353 26\n",
            "521\n",
            "312\n",
            "Accuracy : 0.9869, Precision : 0.5489, Recall : 0.9167, F-score : 0.6867 \n"
          ]
        }
      ]
    },
    {
      "cell_type": "code",
      "source": [],
      "metadata": {
        "id": "iSCVko4lVduC"
      },
      "execution_count": null,
      "outputs": []
    },
    {
      "cell_type": "markdown",
      "source": [
        "#Testing with epochs"
      ],
      "metadata": {
        "id": "kiTTmd9pGs4a"
      }
    },
    {
      "cell_type": "code",
      "source": [
        "%cd /content/drive/MyDrive/LLM_cx/Anomaly-Transformer"
      ],
      "metadata": {
        "colab": {
          "base_uri": "https://localhost:8080/"
        },
        "id": "L_aRUQA5Fnpf",
        "outputId": "64be10b2-d9ca-45cf-f3df-fc52a045606f"
      },
      "execution_count": null,
      "outputs": [
        {
          "output_type": "stream",
          "name": "stdout",
          "text": [
            "/content/drive/MyDrive/LLM_cx/Anomaly-Transformer\n"
          ]
        }
      ]
    },
    {
      "cell_type": "code",
      "source": [
        "!export CUDA_VISIBLE_DEVICES=0\n",
        "\n",
        "!python main.py --anormly_ratio 1 --num_epochs 5 --batch_size 256 --mode train --dataset BGL_ --data_path /content/drive/MyDrive/LLM_cx/Anomaly-Transformer/dataset/My_BGL --input_c 50 --output_c 50\n",
        "!python main.py --anormly_ratio 1 --num_epochs 10 --batch_size 256 --mode test --dataset BGL_ --data_path /content/drive/MyDrive/LLM_cx/Anomaly-Transformer/dataset/My_BGL --input_c 50 --output_c 50 --pretrained_model 20"
      ],
      "metadata": {
        "colab": {
          "base_uri": "https://localhost:8080/"
        },
        "outputId": "05551377-b817-4939-9667-71b0c8ab026d",
        "id": "l7nqDQXDFoCi"
      },
      "execution_count": null,
      "outputs": [
        {
          "output_type": "stream",
          "name": "stdout",
          "text": [
            "------------ Options -------------\n",
            "anormly_ratio: 1.0\n",
            "batch_size: 256\n",
            "data_path: /content/drive/MyDrive/LLM_cx/Anomaly-Transformer/dataset/My_BGL\n",
            "dataset: BGL_\n",
            "input_c: 50\n",
            "k: 3\n",
            "lr: 0.0001\n",
            "mode: train\n",
            "model_save_path: checkpoints\n",
            "num_epochs: 5\n",
            "output_c: 50\n",
            "pretrained_model: None\n",
            "win_size: 100\n",
            "-------------- End ----------------\n",
            "test: (19999, 50)\n",
            "train: (500000, 50)\n",
            "test_label: (19999, 1)\n",
            "test: (19999, 50)\n",
            "train: (500000, 50)\n",
            "test_label: (19999, 1)\n",
            "test: (19999, 50)\n",
            "train: (500000, 50)\n",
            "test_label: (19999, 1)\n",
            "test: (19999, 50)\n",
            "train: (500000, 50)\n",
            "test_label: (19999, 1)\n",
            "======================TRAIN MODE======================\n",
            "\tspeed: 0.7068s/iter; left time: 6832.2850s\n",
            "\tspeed: 0.7384s/iter; left time: 7063.3581s\n",
            "\tspeed: 0.7345s/iter; left time: 6952.7986s\n",
            "\tspeed: 0.7305s/iter; left time: 6842.2589s\n",
            "\tspeed: 0.7311s/iter; left time: 6774.3135s\n",
            "\tspeed: 0.7297s/iter; left time: 6688.2184s\n",
            "\tspeed: 0.7296s/iter; left time: 6614.3060s\n",
            "\tspeed: 0.7293s/iter; left time: 6539.2767s\n",
            "\tspeed: 0.7284s/iter; left time: 6457.8491s\n",
            "\tspeed: 0.7282s/iter; left time: 6383.2839s\n",
            "\tspeed: 0.7250s/iter; left time: 6282.9405s\n",
            "\tspeed: 0.7231s/iter; left time: 6194.3830s\n",
            "\tspeed: 0.7238s/iter; left time: 6127.3395s\n",
            "\tspeed: 0.7230s/iter; left time: 6048.9529s\n",
            "\tspeed: 0.7227s/iter; left time: 5973.7457s\n",
            "\tspeed: 0.7206s/iter; left time: 5884.1743s\n",
            "\tspeed: 0.7199s/iter; left time: 5806.4755s\n",
            "\tspeed: 0.7198s/iter; left time: 5734.0735s\n",
            "\tspeed: 0.7197s/iter; left time: 5661.4027s\n",
            "Epoch: 1 cost time: 1417.1774597167969\n",
            "Epoch: 1, Steps: 1953 | Train Loss: -47.8046176 Vali Loss: -48.8411341 \n",
            "Validation loss decreased (inf --> -48.841134).  Saving model ...\n",
            "Updating learning rate to 0.0001\n",
            "\tspeed: 1.2782s/iter; left time: 9858.9015s\n",
            "\tspeed: 0.7194s/iter; left time: 5476.8083s\n",
            "\tspeed: 0.7192s/iter; left time: 5403.6351s\n",
            "\tspeed: 0.7192s/iter; left time: 5331.5656s\n",
            "\tspeed: 0.7179s/iter; left time: 5249.7931s\n",
            "\tspeed: 0.7172s/iter; left time: 5173.0340s\n",
            "\tspeed: 0.7161s/iter; left time: 5093.5817s\n",
            "\tspeed: 0.7166s/iter; left time: 5025.6052s\n",
            "\tspeed: 0.7162s/iter; left time: 4951.3169s\n",
            "\tspeed: 0.7153s/iter; left time: 4873.0936s\n",
            "\tspeed: 0.7150s/iter; left time: 4800.0775s\n",
            "\tspeed: 0.7142s/iter; left time: 4723.1151s\n",
            "\tspeed: 0.7142s/iter; left time: 4651.4051s\n",
            "\tspeed: 0.7138s/iter; left time: 4577.3598s\n",
            "\tspeed: 0.7135s/iter; left time: 4504.4678s\n",
            "\tspeed: 0.7128s/iter; left time: 4428.4358s\n",
            "\tspeed: 0.7134s/iter; left time: 4361.1319s\n",
            "\tspeed: 0.7128s/iter; left time: 4286.3659s\n",
            "\tspeed: 0.7125s/iter; left time: 4212.7940s\n",
            "Epoch: 2 cost time: 1396.9980685710907\n",
            "Epoch: 2, Steps: 1953 | Train Loss: -48.8567249 Vali Loss: -48.9088177 \n",
            "EarlyStopping counter: 1 out of 3\n",
            "Updating learning rate to 5e-05\n",
            "\tspeed: 1.2607s/iter; left time: 7261.5046s\n",
            "\tspeed: 0.7133s/iter; left time: 4037.3431s\n",
            "\tspeed: 0.7129s/iter; left time: 3963.8439s\n",
            "\tspeed: 0.7106s/iter; left time: 3880.0149s\n",
            "\tspeed: 0.7111s/iter; left time: 3811.2827s\n",
            "\tspeed: 0.7131s/iter; left time: 3750.7863s\n",
            "\tspeed: 0.7133s/iter; left time: 3680.6101s\n",
            "\tspeed: 0.7101s/iter; left time: 3592.9482s\n",
            "\tspeed: 0.7105s/iter; left time: 3523.9491s\n",
            "\tspeed: 0.7098s/iter; left time: 3449.6412s\n",
            "\tspeed: 0.7097s/iter; left time: 3378.3085s\n",
            "\tspeed: 0.7098s/iter; left time: 3307.6554s\n",
            "\tspeed: 0.7100s/iter; left time: 3237.6690s\n",
            "\tspeed: 0.7108s/iter; left time: 3170.0234s\n",
            "\tspeed: 0.7103s/iter; left time: 3097.0949s\n",
            "\tspeed: 0.7100s/iter; left time: 3024.6654s\n",
            "\tspeed: 0.7099s/iter; left time: 2953.0469s\n",
            "\tspeed: 0.7096s/iter; left time: 2880.9729s\n",
            "\tspeed: 0.7098s/iter; left time: 2810.6684s\n",
            "Epoch: 3 cost time: 1387.9906466007233\n",
            "Epoch: 3, Steps: 1953 | Train Loss: -48.8938625 Vali Loss: -48.9241781 \n",
            "EarlyStopping counter: 2 out of 3\n",
            "Updating learning rate to 2.5e-05\n",
            "\tspeed: 1.2603s/iter; left time: 4798.1061s\n",
            "\tspeed: 0.7110s/iter; left time: 2635.5413s\n",
            "\tspeed: 0.7096s/iter; left time: 2559.6986s\n",
            "\tspeed: 0.7097s/iter; left time: 2489.0124s\n",
            "\tspeed: 0.7104s/iter; left time: 2420.3986s\n",
            "\tspeed: 0.7098s/iter; left time: 2347.2847s\n",
            "\tspeed: 0.7098s/iter; left time: 2276.2384s\n",
            "\tspeed: 0.7099s/iter; left time: 2205.5763s\n",
            "\tspeed: 0.7097s/iter; left time: 2134.0698s\n",
            "\tspeed: 0.7097s/iter; left time: 2063.1788s\n",
            "\tspeed: 0.7097s/iter; left time: 1992.2674s\n",
            "\tspeed: 0.7097s/iter; left time: 1921.1020s\n",
            "\tspeed: 0.7098s/iter; left time: 1850.4726s\n",
            "\tspeed: 0.7100s/iter; left time: 1779.9031s\n",
            "\tspeed: 0.7098s/iter; left time: 1708.4006s\n",
            "\tspeed: 0.7097s/iter; left time: 1637.3433s\n",
            "\tspeed: 0.7098s/iter; left time: 1566.5007s\n",
            "\tspeed: 0.7097s/iter; left time: 1495.3935s\n",
            "\tspeed: 0.7097s/iter; left time: 1424.4342s\n",
            "Epoch: 4 cost time: 1386.1258578300476\n",
            "Epoch: 4, Steps: 1953 | Train Loss: -48.8896112 Vali Loss: -48.9369859 \n",
            "EarlyStopping counter: 3 out of 3\n",
            "Early stopping\n",
            "------------ Options -------------\n",
            "anormly_ratio: 1.0\n",
            "batch_size: 256\n",
            "data_path: /content/drive/MyDrive/LLM_cx/Anomaly-Transformer/dataset/My_BGL\n",
            "dataset: BGL_\n",
            "input_c: 50\n",
            "k: 3\n",
            "lr: 0.0001\n",
            "mode: test\n",
            "model_save_path: checkpoints\n",
            "num_epochs: 10\n",
            "output_c: 50\n",
            "pretrained_model: 20\n",
            "win_size: 100\n",
            "-------------- End ----------------\n",
            "test: (19999, 50)\n",
            "train: (500000, 50)\n",
            "test_label: (19999, 1)\n",
            "test: (19999, 50)\n",
            "train: (500000, 50)\n",
            "test_label: (19999, 1)\n",
            "test: (19999, 50)\n",
            "train: (500000, 50)\n",
            "test_label: (19999, 1)\n",
            "test: (19999, 50)\n",
            "train: (500000, 50)\n",
            "test_label: (19999, 1)\n",
            "Traceback (most recent call last):\n",
            "  File \"/content/drive/MyDrive/LLM_cx/Anomaly-Transformer/main.py\", line 52, in <module>\n",
            "    main(config)\n",
            "  File \"/content/drive/MyDrive/LLM_cx/Anomaly-Transformer/main.py\", line 23, in main\n",
            "    solver.test()\n",
            "  File \"/content/drive/MyDrive/LLM_cx/Anomaly-Transformer/solver.py\", line 208, in test\n",
            "    torch.load(\n",
            "  File \"/usr/local/lib/python3.10/dist-packages/torch/serialization.py\", line 791, in load\n",
            "    with _open_file_like(f, 'rb') as opened_file:\n",
            "  File \"/usr/local/lib/python3.10/dist-packages/torch/serialization.py\", line 271, in _open_file_like\n",
            "    return _open_file(name_or_buffer, mode)\n",
            "  File \"/usr/local/lib/python3.10/dist-packages/torch/serialization.py\", line 252, in __init__\n",
            "    super().__init__(open(name, mode))\n",
            "FileNotFoundError: [Errno 2] No such file or directory: '/content/drive/MyDrive/Anomaly-Transformer/checkpoints/BGL__checkpoint_tf_50_.pth'\n"
          ]
        }
      ]
    },
    {
      "cell_type": "code",
      "source": [
        "%cd /content/drive/MyDrive/LLM_cx/Anomaly-Transformer\n"
      ],
      "metadata": {
        "colab": {
          "base_uri": "https://localhost:8080/"
        },
        "id": "SSgFVv6iGvxa",
        "outputId": "2e80a9f6-4044-40e0-d0d7-99a8ed87b350"
      },
      "execution_count": null,
      "outputs": [
        {
          "output_type": "stream",
          "name": "stdout",
          "text": [
            "/content/drive/MyDrive/LLM_cx/Anomaly-Transformer\n"
          ]
        }
      ]
    },
    {
      "cell_type": "code",
      "source": [
        "!python main.py --anormly_ratio 1 --num_epochs 10 --batch_size 256 --mode test --dataset BGL_ --data_path /content/drive/MyDrive/LLM_cx/Anomaly-Transformer/dataset/My_BGL --input_c 50 --output_c 50 --pretrained_model 20"
      ],
      "metadata": {
        "colab": {
          "base_uri": "https://localhost:8080/"
        },
        "id": "01qWxyEmfNFv",
        "outputId": "4a7ddce4-67be-4e93-9f56-b104c921d3e0"
      },
      "execution_count": null,
      "outputs": [
        {
          "output_type": "stream",
          "name": "stdout",
          "text": [
            "------------ Options -------------\n",
            "anormly_ratio: 1.0\n",
            "batch_size: 256\n",
            "data_path: /content/drive/MyDrive/LLM_cx/Anomaly-Transformer/dataset/My_BGL\n",
            "dataset: BGL_\n",
            "input_c: 50\n",
            "k: 3\n",
            "lr: 0.0001\n",
            "mode: test\n",
            "model_save_path: checkpoints\n",
            "num_epochs: 10\n",
            "output_c: 50\n",
            "pretrained_model: 20\n",
            "win_size: 100\n",
            "-------------- End ----------------\n",
            "test: (500000, 50)\n",
            "train: (500000, 50)\n",
            "test_label: (500000, 1)\n",
            "test: (500000, 50)\n",
            "train: (500000, 50)\n",
            "test_label: (500000, 1)\n",
            "test: (500000, 50)\n",
            "train: (500000, 50)\n",
            "test_label: (500000, 1)\n",
            "test: (500000, 50)\n",
            "train: (500000, 50)\n",
            "test_label: (500000, 1)\n",
            "======================TEST MODE======================\n",
            "/usr/local/lib/python3.10/dist-packages/torch/nn/_reduction.py:42: UserWarning: size_average and reduce args will be deprecated, please use reduction='none' instead.\n",
            "  warnings.warn(warning.format(ret))\n",
            "Threshold : 0.004331833287142203\n",
            "pred:    (500000,)\n",
            "gt:      (500000,)\n",
            "pred:  (500000,)\n",
            "gt:    (500000,)\n",
            "TP: 205819, FP: 2993, TN: 290159, FN: 1029\n",
            "205819 2993 290159 1029\n",
            "208812\n",
            "206848\n",
            "Accuracy : 0.9920, Precision : 0.9857, Recall : 0.9950, F-score : 0.9903 \n"
          ]
        }
      ]
    },
    {
      "cell_type": "code",
      "source": [],
      "metadata": {
        "id": "7fm63AAYfP_B"
      },
      "execution_count": null,
      "outputs": []
    }
  ]
}